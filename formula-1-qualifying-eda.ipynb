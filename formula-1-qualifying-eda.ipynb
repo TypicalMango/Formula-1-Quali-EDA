{
 "cells": [
  {
   "cell_type": "code",
   "execution_count": 1,
   "id": "a91100c9",
   "metadata": {
    "_cell_guid": "b1076dfc-b9ad-4769-8c92-a6c4dae69d19",
    "_uuid": "8f2839f25d086af736a60e9eeb907d3b93b6e0e5",
    "execution": {
     "iopub.execute_input": "2024-06-02T09:39:28.172945Z",
     "iopub.status.busy": "2024-06-02T09:39:28.172526Z",
     "iopub.status.idle": "2024-06-02T09:39:29.209105Z",
     "shell.execute_reply": "2024-06-02T09:39:29.207775Z"
    },
    "papermill": {
     "duration": 1.05012,
     "end_time": "2024-06-02T09:39:29.212073",
     "exception": false,
     "start_time": "2024-06-02T09:39:28.161953",
     "status": "completed"
    },
    "tags": []
   },
   "outputs": [
    {
     "name": "stdout",
     "output_type": "stream",
     "text": [
      "/kaggle/input/formula-1-world-championship-1950-2020/races.csv\n",
      "/kaggle/input/formula-1-world-championship-1950-2020/constructor_results.csv\n",
      "/kaggle/input/formula-1-world-championship-1950-2020/drivers.csv\n",
      "/kaggle/input/formula-1-world-championship-1950-2020/constructors.csv\n",
      "/kaggle/input/formula-1-world-championship-1950-2020/lap_times.csv\n",
      "/kaggle/input/formula-1-world-championship-1950-2020/status.csv\n",
      "/kaggle/input/formula-1-world-championship-1950-2020/driver_standings.csv\n",
      "/kaggle/input/formula-1-world-championship-1950-2020/seasons.csv\n",
      "/kaggle/input/formula-1-world-championship-1950-2020/pit_stops.csv\n",
      "/kaggle/input/formula-1-world-championship-1950-2020/sprint_results.csv\n",
      "/kaggle/input/formula-1-world-championship-1950-2020/constructor_standings.csv\n",
      "/kaggle/input/formula-1-world-championship-1950-2020/results.csv\n",
      "/kaggle/input/formula-1-world-championship-1950-2020/circuits.csv\n",
      "/kaggle/input/formula-1-world-championship-1950-2020/qualifying.csv\n"
     ]
    }
   ],
   "source": [
    "# This Python 3 environment comes with many helpful analytics libraries installed\n",
    "# It is defined by the kaggle/python Docker image: https://github.com/kaggle/docker-python\n",
    "# For example, here's several helpful packages to load\n",
    "\n",
    "import numpy as np # linear algebra\n",
    "import pandas as pd # data processing, CSV file I/O (e.g. pd.read_csv)\n",
    "\n",
    "# Input data files are available in the read-only \"../input/\" directory\n",
    "# For example, running this (by clicking run or pressing Shift+Enter) will list all files under the input directory\n",
    "\n",
    "import os\n",
    "for dirname, _, filenames in os.walk('/kaggle/input'):\n",
    "    for filename in filenames:\n",
    "        print(os.path.join(dirname, filename))\n",
    "\n",
    "# You can write up to 20GB to the current directory (/kaggle/working/) that gets preserved as output when you create a version using \"Save & Run All\" \n",
    "# You can also write temporary files to /kaggle/temp/, but they won't be saved outside of the current session"
   ]
  },
  {
   "cell_type": "code",
   "execution_count": 2,
   "id": "07c4980d",
   "metadata": {
    "execution": {
     "iopub.execute_input": "2024-06-02T09:39:29.232500Z",
     "iopub.status.busy": "2024-06-02T09:39:29.231914Z",
     "iopub.status.idle": "2024-06-02T09:39:29.344340Z",
     "shell.execute_reply": "2024-06-02T09:39:29.343159Z"
    },
    "papermill": {
     "duration": 0.125291,
     "end_time": "2024-06-02T09:39:29.347487",
     "exception": false,
     "start_time": "2024-06-02T09:39:29.222196",
     "status": "completed"
    },
    "tags": []
   },
   "outputs": [],
   "source": [
    "import matplotlib.pyplot as plt\n",
    "from ipywidgets import widgets, interact"
   ]
  },
  {
   "cell_type": "code",
   "execution_count": 3,
   "id": "4bb6b652",
   "metadata": {
    "execution": {
     "iopub.execute_input": "2024-06-02T09:39:29.365257Z",
     "iopub.status.busy": "2024-06-02T09:39:29.364831Z",
     "iopub.status.idle": "2024-06-02T09:39:29.429988Z",
     "shell.execute_reply": "2024-06-02T09:39:29.428856Z"
    },
    "papermill": {
     "duration": 0.077288,
     "end_time": "2024-06-02T09:39:29.432840",
     "exception": false,
     "start_time": "2024-06-02T09:39:29.355552",
     "status": "completed"
    },
    "tags": []
   },
   "outputs": [
    {
     "data": {
      "text/html": [
       "<div>\n",
       "<style scoped>\n",
       "    .dataframe tbody tr th:only-of-type {\n",
       "        vertical-align: middle;\n",
       "    }\n",
       "\n",
       "    .dataframe tbody tr th {\n",
       "        vertical-align: top;\n",
       "    }\n",
       "\n",
       "    .dataframe thead th {\n",
       "        text-align: right;\n",
       "    }\n",
       "</style>\n",
       "<table border=\"1\" class=\"dataframe\">\n",
       "  <thead>\n",
       "    <tr style=\"text-align: right;\">\n",
       "      <th></th>\n",
       "      <th>qualifyId</th>\n",
       "      <th>raceId</th>\n",
       "      <th>driverId</th>\n",
       "      <th>constructorId</th>\n",
       "      <th>number</th>\n",
       "      <th>position</th>\n",
       "      <th>q1</th>\n",
       "      <th>q2</th>\n",
       "      <th>q3</th>\n",
       "    </tr>\n",
       "  </thead>\n",
       "  <tbody>\n",
       "    <tr>\n",
       "      <th>0</th>\n",
       "      <td>1</td>\n",
       "      <td>18</td>\n",
       "      <td>1</td>\n",
       "      <td>1</td>\n",
       "      <td>22</td>\n",
       "      <td>1</td>\n",
       "      <td>1:26.572</td>\n",
       "      <td>1:25.187</td>\n",
       "      <td>1:26.714</td>\n",
       "    </tr>\n",
       "    <tr>\n",
       "      <th>1</th>\n",
       "      <td>2</td>\n",
       "      <td>18</td>\n",
       "      <td>9</td>\n",
       "      <td>2</td>\n",
       "      <td>4</td>\n",
       "      <td>2</td>\n",
       "      <td>1:26.103</td>\n",
       "      <td>1:25.315</td>\n",
       "      <td>1:26.869</td>\n",
       "    </tr>\n",
       "    <tr>\n",
       "      <th>2</th>\n",
       "      <td>3</td>\n",
       "      <td>18</td>\n",
       "      <td>5</td>\n",
       "      <td>1</td>\n",
       "      <td>23</td>\n",
       "      <td>3</td>\n",
       "      <td>1:25.664</td>\n",
       "      <td>1:25.452</td>\n",
       "      <td>1:27.079</td>\n",
       "    </tr>\n",
       "    <tr>\n",
       "      <th>3</th>\n",
       "      <td>4</td>\n",
       "      <td>18</td>\n",
       "      <td>13</td>\n",
       "      <td>6</td>\n",
       "      <td>2</td>\n",
       "      <td>4</td>\n",
       "      <td>1:25.994</td>\n",
       "      <td>1:25.691</td>\n",
       "      <td>1:27.178</td>\n",
       "    </tr>\n",
       "    <tr>\n",
       "      <th>4</th>\n",
       "      <td>5</td>\n",
       "      <td>18</td>\n",
       "      <td>2</td>\n",
       "      <td>2</td>\n",
       "      <td>3</td>\n",
       "      <td>5</td>\n",
       "      <td>1:25.960</td>\n",
       "      <td>1:25.518</td>\n",
       "      <td>1:27.236</td>\n",
       "    </tr>\n",
       "  </tbody>\n",
       "</table>\n",
       "</div>"
      ],
      "text/plain": [
       "   qualifyId  raceId  driverId  constructorId  number  position        q1  \\\n",
       "0          1      18         1              1      22         1  1:26.572   \n",
       "1          2      18         9              2       4         2  1:26.103   \n",
       "2          3      18         5              1      23         3  1:25.664   \n",
       "3          4      18        13              6       2         4  1:25.994   \n",
       "4          5      18         2              2       3         5  1:25.960   \n",
       "\n",
       "         q2        q3  \n",
       "0  1:25.187  1:26.714  \n",
       "1  1:25.315  1:26.869  \n",
       "2  1:25.452  1:27.079  \n",
       "3  1:25.691  1:27.178  \n",
       "4  1:25.518  1:27.236  "
      ]
     },
     "execution_count": 3,
     "metadata": {},
     "output_type": "execute_result"
    }
   ],
   "source": [
    "qualifying = pd.read_csv(\"/kaggle/input/formula-1-world-championship-1950-2020/qualifying.csv\")\n",
    "qualifying.head()"
   ]
  },
  {
   "cell_type": "code",
   "execution_count": 4,
   "id": "7336be14",
   "metadata": {
    "execution": {
     "iopub.execute_input": "2024-06-02T09:39:29.451706Z",
     "iopub.status.busy": "2024-06-02T09:39:29.450933Z",
     "iopub.status.idle": "2024-06-02T09:39:29.483161Z",
     "shell.execute_reply": "2024-06-02T09:39:29.481833Z"
    },
    "papermill": {
     "duration": 0.044694,
     "end_time": "2024-06-02T09:39:29.485956",
     "exception": false,
     "start_time": "2024-06-02T09:39:29.441262",
     "status": "completed"
    },
    "tags": []
   },
   "outputs": [
    {
     "data": {
      "text/html": [
       "<div>\n",
       "<style scoped>\n",
       "    .dataframe tbody tr th:only-of-type {\n",
       "        vertical-align: middle;\n",
       "    }\n",
       "\n",
       "    .dataframe tbody tr th {\n",
       "        vertical-align: top;\n",
       "    }\n",
       "\n",
       "    .dataframe thead th {\n",
       "        text-align: right;\n",
       "    }\n",
       "</style>\n",
       "<table border=\"1\" class=\"dataframe\">\n",
       "  <thead>\n",
       "    <tr style=\"text-align: right;\">\n",
       "      <th></th>\n",
       "      <th>raceId</th>\n",
       "      <th>year</th>\n",
       "      <th>round</th>\n",
       "      <th>circuitId</th>\n",
       "      <th>name</th>\n",
       "      <th>date</th>\n",
       "      <th>time</th>\n",
       "      <th>url</th>\n",
       "      <th>fp1_date</th>\n",
       "      <th>fp1_time</th>\n",
       "      <th>fp2_date</th>\n",
       "      <th>fp2_time</th>\n",
       "      <th>fp3_date</th>\n",
       "      <th>fp3_time</th>\n",
       "      <th>quali_date</th>\n",
       "      <th>quali_time</th>\n",
       "      <th>sprint_date</th>\n",
       "      <th>sprint_time</th>\n",
       "    </tr>\n",
       "  </thead>\n",
       "  <tbody>\n",
       "    <tr>\n",
       "      <th>0</th>\n",
       "      <td>1</td>\n",
       "      <td>2009</td>\n",
       "      <td>1</td>\n",
       "      <td>1</td>\n",
       "      <td>Australian Grand Prix</td>\n",
       "      <td>2009-03-29</td>\n",
       "      <td>06:00:00</td>\n",
       "      <td>http://en.wikipedia.org/wiki/2009_Australian_G...</td>\n",
       "      <td>\\N</td>\n",
       "      <td>\\N</td>\n",
       "      <td>\\N</td>\n",
       "      <td>\\N</td>\n",
       "      <td>\\N</td>\n",
       "      <td>\\N</td>\n",
       "      <td>\\N</td>\n",
       "      <td>\\N</td>\n",
       "      <td>\\N</td>\n",
       "      <td>\\N</td>\n",
       "    </tr>\n",
       "    <tr>\n",
       "      <th>1</th>\n",
       "      <td>2</td>\n",
       "      <td>2009</td>\n",
       "      <td>2</td>\n",
       "      <td>2</td>\n",
       "      <td>Malaysian Grand Prix</td>\n",
       "      <td>2009-04-05</td>\n",
       "      <td>09:00:00</td>\n",
       "      <td>http://en.wikipedia.org/wiki/2009_Malaysian_Gr...</td>\n",
       "      <td>\\N</td>\n",
       "      <td>\\N</td>\n",
       "      <td>\\N</td>\n",
       "      <td>\\N</td>\n",
       "      <td>\\N</td>\n",
       "      <td>\\N</td>\n",
       "      <td>\\N</td>\n",
       "      <td>\\N</td>\n",
       "      <td>\\N</td>\n",
       "      <td>\\N</td>\n",
       "    </tr>\n",
       "    <tr>\n",
       "      <th>2</th>\n",
       "      <td>3</td>\n",
       "      <td>2009</td>\n",
       "      <td>3</td>\n",
       "      <td>17</td>\n",
       "      <td>Chinese Grand Prix</td>\n",
       "      <td>2009-04-19</td>\n",
       "      <td>07:00:00</td>\n",
       "      <td>http://en.wikipedia.org/wiki/2009_Chinese_Gran...</td>\n",
       "      <td>\\N</td>\n",
       "      <td>\\N</td>\n",
       "      <td>\\N</td>\n",
       "      <td>\\N</td>\n",
       "      <td>\\N</td>\n",
       "      <td>\\N</td>\n",
       "      <td>\\N</td>\n",
       "      <td>\\N</td>\n",
       "      <td>\\N</td>\n",
       "      <td>\\N</td>\n",
       "    </tr>\n",
       "    <tr>\n",
       "      <th>3</th>\n",
       "      <td>4</td>\n",
       "      <td>2009</td>\n",
       "      <td>4</td>\n",
       "      <td>3</td>\n",
       "      <td>Bahrain Grand Prix</td>\n",
       "      <td>2009-04-26</td>\n",
       "      <td>12:00:00</td>\n",
       "      <td>http://en.wikipedia.org/wiki/2009_Bahrain_Gran...</td>\n",
       "      <td>\\N</td>\n",
       "      <td>\\N</td>\n",
       "      <td>\\N</td>\n",
       "      <td>\\N</td>\n",
       "      <td>\\N</td>\n",
       "      <td>\\N</td>\n",
       "      <td>\\N</td>\n",
       "      <td>\\N</td>\n",
       "      <td>\\N</td>\n",
       "      <td>\\N</td>\n",
       "    </tr>\n",
       "    <tr>\n",
       "      <th>4</th>\n",
       "      <td>5</td>\n",
       "      <td>2009</td>\n",
       "      <td>5</td>\n",
       "      <td>4</td>\n",
       "      <td>Spanish Grand Prix</td>\n",
       "      <td>2009-05-10</td>\n",
       "      <td>12:00:00</td>\n",
       "      <td>http://en.wikipedia.org/wiki/2009_Spanish_Gran...</td>\n",
       "      <td>\\N</td>\n",
       "      <td>\\N</td>\n",
       "      <td>\\N</td>\n",
       "      <td>\\N</td>\n",
       "      <td>\\N</td>\n",
       "      <td>\\N</td>\n",
       "      <td>\\N</td>\n",
       "      <td>\\N</td>\n",
       "      <td>\\N</td>\n",
       "      <td>\\N</td>\n",
       "    </tr>\n",
       "  </tbody>\n",
       "</table>\n",
       "</div>"
      ],
      "text/plain": [
       "   raceId  year  round  circuitId                   name        date  \\\n",
       "0       1  2009      1          1  Australian Grand Prix  2009-03-29   \n",
       "1       2  2009      2          2   Malaysian Grand Prix  2009-04-05   \n",
       "2       3  2009      3         17     Chinese Grand Prix  2009-04-19   \n",
       "3       4  2009      4          3     Bahrain Grand Prix  2009-04-26   \n",
       "4       5  2009      5          4     Spanish Grand Prix  2009-05-10   \n",
       "\n",
       "       time                                                url fp1_date  \\\n",
       "0  06:00:00  http://en.wikipedia.org/wiki/2009_Australian_G...       \\N   \n",
       "1  09:00:00  http://en.wikipedia.org/wiki/2009_Malaysian_Gr...       \\N   \n",
       "2  07:00:00  http://en.wikipedia.org/wiki/2009_Chinese_Gran...       \\N   \n",
       "3  12:00:00  http://en.wikipedia.org/wiki/2009_Bahrain_Gran...       \\N   \n",
       "4  12:00:00  http://en.wikipedia.org/wiki/2009_Spanish_Gran...       \\N   \n",
       "\n",
       "  fp1_time fp2_date fp2_time fp3_date fp3_time quali_date quali_time  \\\n",
       "0       \\N       \\N       \\N       \\N       \\N         \\N         \\N   \n",
       "1       \\N       \\N       \\N       \\N       \\N         \\N         \\N   \n",
       "2       \\N       \\N       \\N       \\N       \\N         \\N         \\N   \n",
       "3       \\N       \\N       \\N       \\N       \\N         \\N         \\N   \n",
       "4       \\N       \\N       \\N       \\N       \\N         \\N         \\N   \n",
       "\n",
       "  sprint_date sprint_time  \n",
       "0          \\N          \\N  \n",
       "1          \\N          \\N  \n",
       "2          \\N          \\N  \n",
       "3          \\N          \\N  \n",
       "4          \\N          \\N  "
      ]
     },
     "execution_count": 4,
     "metadata": {},
     "output_type": "execute_result"
    }
   ],
   "source": [
    "races = pd.read_csv(\"/kaggle/input/formula-1-world-championship-1950-2020/races.csv\")\n",
    "races.head()"
   ]
  },
  {
   "cell_type": "code",
   "execution_count": 5,
   "id": "c249d4c9",
   "metadata": {
    "execution": {
     "iopub.execute_input": "2024-06-02T09:39:29.506466Z",
     "iopub.status.busy": "2024-06-02T09:39:29.506026Z",
     "iopub.status.idle": "2024-06-02T09:39:29.528682Z",
     "shell.execute_reply": "2024-06-02T09:39:29.527484Z"
    },
    "papermill": {
     "duration": 0.03634,
     "end_time": "2024-06-02T09:39:29.531699",
     "exception": false,
     "start_time": "2024-06-02T09:39:29.495359",
     "status": "completed"
    },
    "tags": []
   },
   "outputs": [
    {
     "data": {
      "text/html": [
       "<div>\n",
       "<style scoped>\n",
       "    .dataframe tbody tr th:only-of-type {\n",
       "        vertical-align: middle;\n",
       "    }\n",
       "\n",
       "    .dataframe tbody tr th {\n",
       "        vertical-align: top;\n",
       "    }\n",
       "\n",
       "    .dataframe thead th {\n",
       "        text-align: right;\n",
       "    }\n",
       "</style>\n",
       "<table border=\"1\" class=\"dataframe\">\n",
       "  <thead>\n",
       "    <tr style=\"text-align: right;\">\n",
       "      <th></th>\n",
       "      <th>circuitId</th>\n",
       "      <th>circuitRef</th>\n",
       "      <th>name</th>\n",
       "      <th>location</th>\n",
       "      <th>country</th>\n",
       "      <th>lat</th>\n",
       "      <th>lng</th>\n",
       "      <th>alt</th>\n",
       "      <th>url</th>\n",
       "    </tr>\n",
       "  </thead>\n",
       "  <tbody>\n",
       "    <tr>\n",
       "      <th>0</th>\n",
       "      <td>1</td>\n",
       "      <td>albert_park</td>\n",
       "      <td>Albert Park Grand Prix Circuit</td>\n",
       "      <td>Melbourne</td>\n",
       "      <td>Australia</td>\n",
       "      <td>-37.84970</td>\n",
       "      <td>144.96800</td>\n",
       "      <td>10</td>\n",
       "      <td>http://en.wikipedia.org/wiki/Melbourne_Grand_P...</td>\n",
       "    </tr>\n",
       "    <tr>\n",
       "      <th>1</th>\n",
       "      <td>2</td>\n",
       "      <td>sepang</td>\n",
       "      <td>Sepang International Circuit</td>\n",
       "      <td>Kuala Lumpur</td>\n",
       "      <td>Malaysia</td>\n",
       "      <td>2.76083</td>\n",
       "      <td>101.73800</td>\n",
       "      <td>18</td>\n",
       "      <td>http://en.wikipedia.org/wiki/Sepang_Internatio...</td>\n",
       "    </tr>\n",
       "    <tr>\n",
       "      <th>2</th>\n",
       "      <td>3</td>\n",
       "      <td>bahrain</td>\n",
       "      <td>Bahrain International Circuit</td>\n",
       "      <td>Sakhir</td>\n",
       "      <td>Bahrain</td>\n",
       "      <td>26.03250</td>\n",
       "      <td>50.51060</td>\n",
       "      <td>7</td>\n",
       "      <td>http://en.wikipedia.org/wiki/Bahrain_Internati...</td>\n",
       "    </tr>\n",
       "    <tr>\n",
       "      <th>3</th>\n",
       "      <td>4</td>\n",
       "      <td>catalunya</td>\n",
       "      <td>Circuit de Barcelona-Catalunya</td>\n",
       "      <td>Montmeló</td>\n",
       "      <td>Spain</td>\n",
       "      <td>41.57000</td>\n",
       "      <td>2.26111</td>\n",
       "      <td>109</td>\n",
       "      <td>http://en.wikipedia.org/wiki/Circuit_de_Barcel...</td>\n",
       "    </tr>\n",
       "    <tr>\n",
       "      <th>4</th>\n",
       "      <td>5</td>\n",
       "      <td>istanbul</td>\n",
       "      <td>Istanbul Park</td>\n",
       "      <td>Istanbul</td>\n",
       "      <td>Turkey</td>\n",
       "      <td>40.95170</td>\n",
       "      <td>29.40500</td>\n",
       "      <td>130</td>\n",
       "      <td>http://en.wikipedia.org/wiki/Istanbul_Park</td>\n",
       "    </tr>\n",
       "  </tbody>\n",
       "</table>\n",
       "</div>"
      ],
      "text/plain": [
       "   circuitId   circuitRef                            name      location  \\\n",
       "0          1  albert_park  Albert Park Grand Prix Circuit     Melbourne   \n",
       "1          2       sepang    Sepang International Circuit  Kuala Lumpur   \n",
       "2          3      bahrain   Bahrain International Circuit        Sakhir   \n",
       "3          4    catalunya  Circuit de Barcelona-Catalunya      Montmeló   \n",
       "4          5     istanbul                   Istanbul Park      Istanbul   \n",
       "\n",
       "     country       lat        lng  alt  \\\n",
       "0  Australia -37.84970  144.96800   10   \n",
       "1   Malaysia   2.76083  101.73800   18   \n",
       "2    Bahrain  26.03250   50.51060    7   \n",
       "3      Spain  41.57000    2.26111  109   \n",
       "4     Turkey  40.95170   29.40500  130   \n",
       "\n",
       "                                                 url  \n",
       "0  http://en.wikipedia.org/wiki/Melbourne_Grand_P...  \n",
       "1  http://en.wikipedia.org/wiki/Sepang_Internatio...  \n",
       "2  http://en.wikipedia.org/wiki/Bahrain_Internati...  \n",
       "3  http://en.wikipedia.org/wiki/Circuit_de_Barcel...  \n",
       "4         http://en.wikipedia.org/wiki/Istanbul_Park  "
      ]
     },
     "execution_count": 5,
     "metadata": {},
     "output_type": "execute_result"
    }
   ],
   "source": [
    "circuits = pd.read_csv(\"/kaggle/input/formula-1-world-championship-1950-2020/circuits.csv\")\n",
    "circuits.head()"
   ]
  },
  {
   "cell_type": "code",
   "execution_count": 6,
   "id": "b99c314a",
   "metadata": {
    "execution": {
     "iopub.execute_input": "2024-06-02T09:39:29.552960Z",
     "iopub.status.busy": "2024-06-02T09:39:29.552553Z",
     "iopub.status.idle": "2024-06-02T09:39:29.570287Z",
     "shell.execute_reply": "2024-06-02T09:39:29.569141Z"
    },
    "papermill": {
     "duration": 0.031423,
     "end_time": "2024-06-02T09:39:29.572992",
     "exception": false,
     "start_time": "2024-06-02T09:39:29.541569",
     "status": "completed"
    },
    "tags": []
   },
   "outputs": [
    {
     "data": {
      "text/html": [
       "<div>\n",
       "<style scoped>\n",
       "    .dataframe tbody tr th:only-of-type {\n",
       "        vertical-align: middle;\n",
       "    }\n",
       "\n",
       "    .dataframe tbody tr th {\n",
       "        vertical-align: top;\n",
       "    }\n",
       "\n",
       "    .dataframe thead th {\n",
       "        text-align: right;\n",
       "    }\n",
       "</style>\n",
       "<table border=\"1\" class=\"dataframe\">\n",
       "  <thead>\n",
       "    <tr style=\"text-align: right;\">\n",
       "      <th></th>\n",
       "      <th>constructorId</th>\n",
       "      <th>constructorRef</th>\n",
       "      <th>name</th>\n",
       "      <th>nationality</th>\n",
       "      <th>url</th>\n",
       "    </tr>\n",
       "  </thead>\n",
       "  <tbody>\n",
       "    <tr>\n",
       "      <th>0</th>\n",
       "      <td>1</td>\n",
       "      <td>mclaren</td>\n",
       "      <td>McLaren</td>\n",
       "      <td>British</td>\n",
       "      <td>http://en.wikipedia.org/wiki/McLaren</td>\n",
       "    </tr>\n",
       "    <tr>\n",
       "      <th>1</th>\n",
       "      <td>2</td>\n",
       "      <td>bmw_sauber</td>\n",
       "      <td>BMW Sauber</td>\n",
       "      <td>German</td>\n",
       "      <td>http://en.wikipedia.org/wiki/BMW_Sauber</td>\n",
       "    </tr>\n",
       "    <tr>\n",
       "      <th>2</th>\n",
       "      <td>3</td>\n",
       "      <td>williams</td>\n",
       "      <td>Williams</td>\n",
       "      <td>British</td>\n",
       "      <td>http://en.wikipedia.org/wiki/Williams_Grand_Pr...</td>\n",
       "    </tr>\n",
       "    <tr>\n",
       "      <th>3</th>\n",
       "      <td>4</td>\n",
       "      <td>renault</td>\n",
       "      <td>Renault</td>\n",
       "      <td>French</td>\n",
       "      <td>http://en.wikipedia.org/wiki/Renault_in_Formul...</td>\n",
       "    </tr>\n",
       "    <tr>\n",
       "      <th>4</th>\n",
       "      <td>5</td>\n",
       "      <td>toro_rosso</td>\n",
       "      <td>Toro Rosso</td>\n",
       "      <td>Italian</td>\n",
       "      <td>http://en.wikipedia.org/wiki/Scuderia_Toro_Rosso</td>\n",
       "    </tr>\n",
       "  </tbody>\n",
       "</table>\n",
       "</div>"
      ],
      "text/plain": [
       "   constructorId constructorRef        name nationality  \\\n",
       "0              1        mclaren     McLaren     British   \n",
       "1              2     bmw_sauber  BMW Sauber      German   \n",
       "2              3       williams    Williams     British   \n",
       "3              4        renault     Renault      French   \n",
       "4              5     toro_rosso  Toro Rosso     Italian   \n",
       "\n",
       "                                                 url  \n",
       "0               http://en.wikipedia.org/wiki/McLaren  \n",
       "1            http://en.wikipedia.org/wiki/BMW_Sauber  \n",
       "2  http://en.wikipedia.org/wiki/Williams_Grand_Pr...  \n",
       "3  http://en.wikipedia.org/wiki/Renault_in_Formul...  \n",
       "4   http://en.wikipedia.org/wiki/Scuderia_Toro_Rosso  "
      ]
     },
     "execution_count": 6,
     "metadata": {},
     "output_type": "execute_result"
    }
   ],
   "source": [
    "constructors = pd.read_csv(\"/kaggle/input/formula-1-world-championship-1950-2020/constructors.csv\")\n",
    "constructors.head()"
   ]
  },
  {
   "cell_type": "markdown",
   "id": "93bd80b6",
   "metadata": {
    "papermill": {
     "duration": 0.008926,
     "end_time": "2024-06-02T09:39:29.591448",
     "exception": false,
     "start_time": "2024-06-02T09:39:29.582522",
     "status": "completed"
    },
    "tags": []
   },
   "source": [
    "# **Creating Our Modified Dataset**"
   ]
  },
  {
   "cell_type": "code",
   "execution_count": 7,
   "id": "5ff91fc6",
   "metadata": {
    "execution": {
     "iopub.execute_input": "2024-06-02T09:39:29.611798Z",
     "iopub.status.busy": "2024-06-02T09:39:29.611353Z",
     "iopub.status.idle": "2024-06-02T09:39:29.742405Z",
     "shell.execute_reply": "2024-06-02T09:39:29.741121Z"
    },
    "papermill": {
     "duration": 0.144568,
     "end_time": "2024-06-02T09:39:29.745212",
     "exception": false,
     "start_time": "2024-06-02T09:39:29.600644",
     "status": "completed"
    },
    "tags": []
   },
   "outputs": [
    {
     "data": {
      "text/html": [
       "<div>\n",
       "<style scoped>\n",
       "    .dataframe tbody tr th:only-of-type {\n",
       "        vertical-align: middle;\n",
       "    }\n",
       "\n",
       "    .dataframe tbody tr th {\n",
       "        vertical-align: top;\n",
       "    }\n",
       "\n",
       "    .dataframe thead th {\n",
       "        text-align: right;\n",
       "    }\n",
       "</style>\n",
       "<table border=\"1\" class=\"dataframe\">\n",
       "  <thead>\n",
       "    <tr style=\"text-align: right;\">\n",
       "      <th></th>\n",
       "      <th>qualifyId</th>\n",
       "      <th>raceId</th>\n",
       "      <th>circuitId</th>\n",
       "      <th>circuitRef</th>\n",
       "      <th>constructorId</th>\n",
       "      <th>constructorRef</th>\n",
       "      <th>year</th>\n",
       "      <th>position</th>\n",
       "      <th>q1</th>\n",
       "      <th>q2</th>\n",
       "      <th>q3</th>\n",
       "    </tr>\n",
       "  </thead>\n",
       "  <tbody>\n",
       "    <tr>\n",
       "      <th>0</th>\n",
       "      <td>1.0</td>\n",
       "      <td>18.0</td>\n",
       "      <td>1.0</td>\n",
       "      <td>albert_park</td>\n",
       "      <td>1.0</td>\n",
       "      <td>mclaren</td>\n",
       "      <td>2008.0</td>\n",
       "      <td>1.0</td>\n",
       "      <td>1:26.572</td>\n",
       "      <td>1:25.187</td>\n",
       "      <td>1:26.714</td>\n",
       "    </tr>\n",
       "    <tr>\n",
       "      <th>1</th>\n",
       "      <td>2.0</td>\n",
       "      <td>18.0</td>\n",
       "      <td>1.0</td>\n",
       "      <td>albert_park</td>\n",
       "      <td>2.0</td>\n",
       "      <td>bmw_sauber</td>\n",
       "      <td>2008.0</td>\n",
       "      <td>2.0</td>\n",
       "      <td>1:26.103</td>\n",
       "      <td>1:25.315</td>\n",
       "      <td>1:26.869</td>\n",
       "    </tr>\n",
       "    <tr>\n",
       "      <th>2</th>\n",
       "      <td>3.0</td>\n",
       "      <td>18.0</td>\n",
       "      <td>1.0</td>\n",
       "      <td>albert_park</td>\n",
       "      <td>1.0</td>\n",
       "      <td>mclaren</td>\n",
       "      <td>2008.0</td>\n",
       "      <td>3.0</td>\n",
       "      <td>1:25.664</td>\n",
       "      <td>1:25.452</td>\n",
       "      <td>1:27.079</td>\n",
       "    </tr>\n",
       "    <tr>\n",
       "      <th>3</th>\n",
       "      <td>4.0</td>\n",
       "      <td>18.0</td>\n",
       "      <td>1.0</td>\n",
       "      <td>albert_park</td>\n",
       "      <td>6.0</td>\n",
       "      <td>ferrari</td>\n",
       "      <td>2008.0</td>\n",
       "      <td>4.0</td>\n",
       "      <td>1:25.994</td>\n",
       "      <td>1:25.691</td>\n",
       "      <td>1:27.178</td>\n",
       "    </tr>\n",
       "    <tr>\n",
       "      <th>4</th>\n",
       "      <td>5.0</td>\n",
       "      <td>18.0</td>\n",
       "      <td>1.0</td>\n",
       "      <td>albert_park</td>\n",
       "      <td>2.0</td>\n",
       "      <td>bmw_sauber</td>\n",
       "      <td>2008.0</td>\n",
       "      <td>5.0</td>\n",
       "      <td>1:25.960</td>\n",
       "      <td>1:25.518</td>\n",
       "      <td>1:27.236</td>\n",
       "    </tr>\n",
       "  </tbody>\n",
       "</table>\n",
       "</div>"
      ],
      "text/plain": [
       "   qualifyId  raceId  circuitId   circuitRef  constructorId constructorRef  \\\n",
       "0        1.0    18.0        1.0  albert_park            1.0        mclaren   \n",
       "1        2.0    18.0        1.0  albert_park            2.0     bmw_sauber   \n",
       "2        3.0    18.0        1.0  albert_park            1.0        mclaren   \n",
       "3        4.0    18.0        1.0  albert_park            6.0        ferrari   \n",
       "4        5.0    18.0        1.0  albert_park            2.0     bmw_sauber   \n",
       "\n",
       "     year  position        q1        q2        q3  \n",
       "0  2008.0       1.0  1:26.572  1:25.187  1:26.714  \n",
       "1  2008.0       2.0  1:26.103  1:25.315  1:26.869  \n",
       "2  2008.0       3.0  1:25.664  1:25.452  1:27.079  \n",
       "3  2008.0       4.0  1:25.994  1:25.691  1:27.178  \n",
       "4  2008.0       5.0  1:25.960  1:25.518  1:27.236  "
      ]
     },
     "execution_count": 7,
     "metadata": {},
     "output_type": "execute_result"
    }
   ],
   "source": [
    "qual = qualifying.merge(races, how='outer', on='raceId')\n",
    "qual = qual.merge(circuits, how='outer', on='circuitId')\n",
    "qual = qual.merge(constructors, how='outer', on='constructorId').sort_values('qualifyId').reset_index(drop=True)\n",
    "qual = qual[['qualifyId', 'raceId', 'circuitId', 'circuitRef',\n",
    "             'constructorId', 'constructorRef', 'year', 'position', 'q1', 'q2', 'q3']]\n",
    "\n",
    "qual.head()"
   ]
  },
  {
   "cell_type": "markdown",
   "id": "da470440",
   "metadata": {
    "papermill": {
     "duration": 0.009124,
     "end_time": "2024-06-02T09:39:29.764448",
     "exception": false,
     "start_time": "2024-06-02T09:39:29.755324",
     "status": "completed"
    },
    "tags": []
   },
   "source": [
    "### Dataset merge has led to additional rows"
   ]
  },
  {
   "cell_type": "code",
   "execution_count": 8,
   "id": "7bcea95b",
   "metadata": {
    "execution": {
     "iopub.execute_input": "2024-06-02T09:39:29.785502Z",
     "iopub.status.busy": "2024-06-02T09:39:29.785096Z",
     "iopub.status.idle": "2024-06-02T09:39:29.800982Z",
     "shell.execute_reply": "2024-06-02T09:39:29.799496Z"
    },
    "papermill": {
     "duration": 0.029476,
     "end_time": "2024-06-02T09:39:29.803679",
     "exception": false,
     "start_time": "2024-06-02T09:39:29.774203",
     "status": "completed"
    },
    "tags": []
   },
   "outputs": [
    {
     "name": "stdout",
     "output_type": "stream",
     "text": [
      "qualifyId          806\n",
      "raceId             165\n",
      "circuitId          165\n",
      "circuitRef         165\n",
      "constructorId      641\n",
      "constructorRef     641\n",
      "year               165\n",
      "position           806\n",
      "q1                 814\n",
      "q2                 970\n",
      "q3                1133\n",
      "dtype: int64\n",
      "----------------------------------\n",
      "qualifyId         float64\n",
      "raceId            float64\n",
      "circuitId         float64\n",
      "circuitRef         object\n",
      "constructorId     float64\n",
      "constructorRef     object\n",
      "year              float64\n",
      "position          float64\n",
      "q1                 object\n",
      "q2                 object\n",
      "q3                 object\n",
      "dtype: object\n"
     ]
    }
   ],
   "source": [
    "print(qual.isna().sum())\n",
    "print('----------------------------------')\n",
    "print(qual.dtypes)"
   ]
  },
  {
   "cell_type": "code",
   "execution_count": 9,
   "id": "545b0ae8",
   "metadata": {
    "execution": {
     "iopub.execute_input": "2024-06-02T09:39:29.824861Z",
     "iopub.status.busy": "2024-06-02T09:39:29.824479Z",
     "iopub.status.idle": "2024-06-02T09:39:29.834722Z",
     "shell.execute_reply": "2024-06-02T09:39:29.833266Z"
    },
    "papermill": {
     "duration": 0.024072,
     "end_time": "2024-06-02T09:39:29.837483",
     "exception": false,
     "start_time": "2024-06-02T09:39:29.813411",
     "status": "completed"
    },
    "tags": []
   },
   "outputs": [],
   "source": [
    "qual.dropna(subset=[\"qualifyId\"], inplace=True)"
   ]
  },
  {
   "cell_type": "markdown",
   "id": "bab0ba0d",
   "metadata": {
    "papermill": {
     "duration": 0.009366,
     "end_time": "2024-06-02T09:39:29.856700",
     "exception": false,
     "start_time": "2024-06-02T09:39:29.847334",
     "status": "completed"
    },
    "tags": []
   },
   "source": [
    "### Not all teams have q1, q2 and q3 times for a given qualifying"
   ]
  },
  {
   "cell_type": "code",
   "execution_count": 10,
   "id": "695fe837",
   "metadata": {
    "execution": {
     "iopub.execute_input": "2024-06-02T09:39:29.878281Z",
     "iopub.status.busy": "2024-06-02T09:39:29.877364Z",
     "iopub.status.idle": "2024-06-02T09:39:29.891271Z",
     "shell.execute_reply": "2024-06-02T09:39:29.890036Z"
    },
    "papermill": {
     "duration": 0.02718,
     "end_time": "2024-06-02T09:39:29.893651",
     "exception": false,
     "start_time": "2024-06-02T09:39:29.866471",
     "status": "completed"
    },
    "tags": []
   },
   "outputs": [
    {
     "name": "stdout",
     "output_type": "stream",
     "text": [
      "qualifyId           0\n",
      "raceId              0\n",
      "circuitId           0\n",
      "circuitRef          0\n",
      "constructorId       0\n",
      "constructorRef      0\n",
      "year                0\n",
      "position            0\n",
      "q1                  8\n",
      "q2                164\n",
      "q3                327\n",
      "dtype: int64\n"
     ]
    }
   ],
   "source": [
    "print(qual.isna().sum())"
   ]
  },
  {
   "cell_type": "markdown",
   "id": "9e2cba08",
   "metadata": {
    "papermill": {
     "duration": 0.009723,
     "end_time": "2024-06-02T09:39:29.913190",
     "exception": false,
     "start_time": "2024-06-02T09:39:29.903467",
     "status": "completed"
    },
    "tags": []
   },
   "source": [
    "### Filling null time values with \\N (which is default symbol used throughout dataset)"
   ]
  },
  {
   "cell_type": "code",
   "execution_count": 11,
   "id": "bd1dce6c",
   "metadata": {
    "execution": {
     "iopub.execute_input": "2024-06-02T09:39:29.934667Z",
     "iopub.status.busy": "2024-06-02T09:39:29.934118Z",
     "iopub.status.idle": "2024-06-02T09:39:29.950034Z",
     "shell.execute_reply": "2024-06-02T09:39:29.948899Z"
    },
    "papermill": {
     "duration": 0.029986,
     "end_time": "2024-06-02T09:39:29.952953",
     "exception": false,
     "start_time": "2024-06-02T09:39:29.922967",
     "status": "completed"
    },
    "tags": []
   },
   "outputs": [],
   "source": [
    "qual.fillna('\\\\N', inplace=True)"
   ]
  },
  {
   "cell_type": "code",
   "execution_count": 12,
   "id": "ede336f7",
   "metadata": {
    "execution": {
     "iopub.execute_input": "2024-06-02T09:39:29.975226Z",
     "iopub.status.busy": "2024-06-02T09:39:29.974269Z",
     "iopub.status.idle": "2024-06-02T09:39:29.982654Z",
     "shell.execute_reply": "2024-06-02T09:39:29.981467Z"
    },
    "papermill": {
     "duration": 0.022514,
     "end_time": "2024-06-02T09:39:29.985319",
     "exception": false,
     "start_time": "2024-06-02T09:39:29.962805",
     "status": "completed"
    },
    "tags": []
   },
   "outputs": [],
   "source": [
    "from datetime import datetime, timedelta\n",
    "\n",
    "def timeConversion(times):\n",
    "    formatted_times = list()\n",
    "    time_format = '%M:%S.%f'\n",
    "    for time in times:\n",
    "        try:\n",
    "            time = datetime.strptime(time, time_format)\n",
    "        except:\n",
    "            formatted_times.append(np.nan)\n",
    "            continue\n",
    "        temp_obj = timedelta(minutes = time.minute,\n",
    "                             seconds = time.second,\n",
    "                             microseconds = time.microsecond)\n",
    "        \n",
    "        formatted_times.append(temp_obj.total_seconds())\n",
    "    \n",
    "    formatted_times = np.array(formatted_times)\n",
    "\n",
    "    return formatted_times"
   ]
  },
  {
   "cell_type": "code",
   "execution_count": 13,
   "id": "a766f1ce",
   "metadata": {
    "execution": {
     "iopub.execute_input": "2024-06-02T09:39:30.008099Z",
     "iopub.status.busy": "2024-06-02T09:39:30.007012Z",
     "iopub.status.idle": "2024-06-02T09:39:30.762958Z",
     "shell.execute_reply": "2024-06-02T09:39:30.761795Z"
    },
    "papermill": {
     "duration": 0.769865,
     "end_time": "2024-06-02T09:39:30.765632",
     "exception": false,
     "start_time": "2024-06-02T09:39:29.995767",
     "status": "completed"
    },
    "tags": []
   },
   "outputs": [
    {
     "name": "stderr",
     "output_type": "stream",
     "text": [
      "/tmp/ipykernel_18/2946370897.py:16: RuntimeWarning: Mean of empty slice\n",
      "  q1_mean = np.nanmean(timeConversion(qual_c_y.q1))\n",
      "/opt/conda/lib/python3.10/site-packages/numpy/lib/nanfunctions.py:1879: RuntimeWarning: Degrees of freedom <= 0 for slice.\n",
      "  var = nanvar(a, axis=axis, dtype=dtype, out=out, ddof=ddof,\n"
     ]
    }
   ],
   "source": [
    "circuits = sorted(qual.circuitId.unique())\n",
    "qual_data_circ = dict()\n",
    "\n",
    "for circuit in circuits:\n",
    "    qual_c = qual[qual.circuitId == circuit]\n",
    "    name = list(qual_c['circuitRef'])[0]\n",
    "    qual_data_circ[name] = dict()\n",
    "    years = sorted(qual_c.year.unique())\n",
    "\n",
    "    qual_data_circ[name]['years'] = list()\n",
    "    qual_data_circ[name]['q1'] = list()\n",
    "    qual_data_circ[name]['q1_sd'] = list()\n",
    "    \n",
    "    for year in years:\n",
    "        qual_c_y = qual_c[qual_c.year == year]\n",
    "        q1_mean = np.nanmean(timeConversion(qual_c_y.q1))\n",
    "        q1_sd = np.nanstd(timeConversion(qual_c_y.q1))\n",
    "\n",
    "        if not np.isnan(q1_mean):\n",
    "            qual_data_circ[name]['years'].append(int(year))\n",
    "            qual_data_circ[name]['q1'].append(q1_mean)\n",
    "            qual_data_circ[name]['q1_sd'].append(q1_sd)"
   ]
  },
  {
   "cell_type": "code",
   "execution_count": 14,
   "id": "9fa5813b",
   "metadata": {
    "execution": {
     "iopub.execute_input": "2024-06-02T09:39:30.788937Z",
     "iopub.status.busy": "2024-06-02T09:39:30.787950Z",
     "iopub.status.idle": "2024-06-02T09:39:31.004699Z",
     "shell.execute_reply": "2024-06-02T09:39:31.003420Z"
    },
    "papermill": {
     "duration": 0.231208,
     "end_time": "2024-06-02T09:39:31.007744",
     "exception": false,
     "start_time": "2024-06-02T09:39:30.776536",
     "status": "completed"
    },
    "tags": []
   },
   "outputs": [],
   "source": [
    "constructors = sorted(qual.constructorId.unique())\n",
    "qual_data_construct = dict()\n",
    "\n",
    "for constructor in constructors:\n",
    "    qual_c = qual[qual.constructorId == constructor]\n",
    "    name = list(qual_c['constructorRef'])[0]\n",
    "    qual_data_construct[name] = dict()\n",
    "    years = sorted(qual_c.year.unique())\n",
    "\n",
    "    qual_data_construct[name]['years'] = list()\n",
    "    qual_data_construct[name]['position'] = list()\n",
    "    \n",
    "    for year in years:\n",
    "        qual_c_y = qual_c[qual_c.year == year]\n",
    "        pos = np.nanmean(qual_c_y.position)\n",
    "\n",
    "        if not np.isnan(q1_mean):\n",
    "            qual_data_construct[name]['years'].append(int(year))\n",
    "            qual_data_construct[name]['position'].append(pos)"
   ]
  },
  {
   "cell_type": "markdown",
   "id": "ea11c85a",
   "metadata": {
    "papermill": {
     "duration": 0.009567,
     "end_time": "2024-06-02T09:39:31.027378",
     "exception": false,
     "start_time": "2024-06-02T09:39:31.017811",
     "status": "completed"
    },
    "tags": []
   },
   "source": [
    "# **Analyzing Qualifying times over the years**\n",
    "Qualifying times across the years for individual circuits"
   ]
  },
  {
   "cell_type": "code",
   "execution_count": 15,
   "id": "5d34461f",
   "metadata": {
    "execution": {
     "iopub.execute_input": "2024-06-02T09:39:31.049223Z",
     "iopub.status.busy": "2024-06-02T09:39:31.048761Z",
     "iopub.status.idle": "2024-06-02T09:39:31.422981Z",
     "shell.execute_reply": "2024-06-02T09:39:31.421764Z"
    },
    "papermill": {
     "duration": 0.388308,
     "end_time": "2024-06-02T09:39:31.425658",
     "exception": false,
     "start_time": "2024-06-02T09:39:31.037350",
     "status": "completed"
    },
    "tags": []
   },
   "outputs": [
    {
     "data": {
      "application/vnd.jupyter.widget-view+json": {
       "model_id": "be34f5c8148840689f28a2806585f1fa",
       "version_major": 2,
       "version_minor": 0
      },
      "text/plain": [
       "interactive(children=(Dropdown(description='Circuit:', options=('albert_park', 'sepang', 'bahrain', 'catalunya…"
      ]
     },
     "metadata": {},
     "output_type": "display_data"
    },
    {
     "data": {
      "text/plain": [
       "<function __main__.update_plot(circuit_name='albert_part')>"
      ]
     },
     "execution_count": 15,
     "metadata": {},
     "output_type": "execute_result"
    }
   ],
   "source": [
    "circuits = list(qual_data_circ.keys())\n",
    "def update_plot(circuit_name=\"albert_part\"):\n",
    "    circuit_data = qual_data_circ[circuit_name]\n",
    "    \n",
    "    years = np.array(circuit_data['years'])\n",
    "    q1_mean = np.array(circuit_data['q1'])\n",
    "    q1_sd = np.array(circuit_data['q1_sd'])\n",
    "    \n",
    "    plt.figure()\n",
    "    ax = plt.gca()\n",
    "    ax.set_title(circuit_name)\n",
    "    ax.set_xlabel(\"Year\")\n",
    "    ax.set_ylabel(\"Average Qualifying Time (Sec)\")\n",
    "    \n",
    "    ax.errorbar(years, q1_mean, q1_sd, marker='o')\n",
    "    ax.locator_params(axis='x', integer=True, tight=True)\n",
    "    ax.grid()\n",
    "    \n",
    "    plt.show()\n",
    "\n",
    "interact(update_plot, circuit_name = widgets.Dropdown(\n",
    "    options=circuits,\n",
    "    description=\"Circuit:\",\n",
    "    value=circuits[0]\n",
    "))"
   ]
  },
  {
   "cell_type": "markdown",
   "id": "d3a35ffa",
   "metadata": {
    "papermill": {
     "duration": 0.010066,
     "end_time": "2024-06-02T09:39:31.447563",
     "exception": false,
     "start_time": "2024-06-02T09:39:31.437497",
     "status": "completed"
    },
    "tags": []
   },
   "source": [
    "# **Analyzing Team Performance over the years**\n",
    "Qualifying performance of individual teams across the years"
   ]
  },
  {
   "cell_type": "code",
   "execution_count": 16,
   "id": "173ac6b9",
   "metadata": {
    "execution": {
     "iopub.execute_input": "2024-06-02T09:39:31.470773Z",
     "iopub.status.busy": "2024-06-02T09:39:31.470329Z",
     "iopub.status.idle": "2024-06-02T09:39:31.739879Z",
     "shell.execute_reply": "2024-06-02T09:39:31.738564Z"
    },
    "papermill": {
     "duration": 0.284719,
     "end_time": "2024-06-02T09:39:31.743206",
     "exception": false,
     "start_time": "2024-06-02T09:39:31.458487",
     "status": "completed"
    },
    "tags": []
   },
   "outputs": [
    {
     "data": {
      "application/vnd.jupyter.widget-view+json": {
       "model_id": "8c6f4e06032145ed8e391ac21ac96bb2",
       "version_major": 2,
       "version_minor": 0
      },
      "text/plain": [
       "interactive(children=(Dropdown(description='Constructor:', options=('mclaren', 'bmw_sauber', 'williams', 'rena…"
      ]
     },
     "metadata": {},
     "output_type": "display_data"
    },
    {
     "data": {
      "text/plain": [
       "<function __main__.update_plot(constructor_name='mclaren')>"
      ]
     },
     "execution_count": 16,
     "metadata": {},
     "output_type": "execute_result"
    }
   ],
   "source": [
    "constructors = list(qual_data_construct.keys())\n",
    "def update_plot(constructor_name=\"mclaren\"):\n",
    "    constructor_data = qual_data_construct[constructor_name]\n",
    "    years = np.array(constructor_data['years'])\n",
    "    pos = np.array(constructor_data['position'])\n",
    "    \n",
    "    plt.figure()\n",
    "    ax = plt.gca()\n",
    "    ax.set_title(constructor_name)\n",
    "    ax.set_xlabel(\"Year\")\n",
    "    ax.set_ylabel(\"Average Qualifying Position\")\n",
    "    ax.plot(years, pos, marker='o')\n",
    "    ax.locator_params(axis=\"both\", integer=True, tight=True)\n",
    "    \n",
    "    plt.show()\n",
    "\n",
    "interact(update_plot, constructor_name = widgets.Dropdown(\n",
    "    options=constructors,\n",
    "    description=\"Constructor:\",\n",
    "    value=constructors[0]\n",
    "))"
   ]
  },
  {
   "cell_type": "markdown",
   "id": "2fab47d0",
   "metadata": {
    "papermill": {
     "duration": 0.010438,
     "end_time": "2024-06-02T09:39:31.766084",
     "exception": false,
     "start_time": "2024-06-02T09:39:31.755646",
     "status": "completed"
    },
    "tags": []
   },
   "source": [
    "**note:** if graphs and/or dropdown is not visible, restart session and run all"
   ]
  },
  {
   "cell_type": "code",
   "execution_count": null,
   "id": "4b34325d",
   "metadata": {
    "papermill": {
     "duration": 0.011028,
     "end_time": "2024-06-02T09:39:31.788333",
     "exception": false,
     "start_time": "2024-06-02T09:39:31.777305",
     "status": "completed"
    },
    "tags": []
   },
   "outputs": [],
   "source": []
  }
 ],
 "metadata": {
  "kaggle": {
   "accelerator": "none",
   "dataSources": [
    {
     "datasetId": 468218,
     "sourceId": 6358464,
     "sourceType": "datasetVersion"
    }
   ],
   "dockerImageVersionId": 30715,
   "isGpuEnabled": false,
   "isInternetEnabled": true,
   "language": "python",
   "sourceType": "notebook"
  },
  "kernelspec": {
   "display_name": "Python 3",
   "language": "python",
   "name": "python3"
  },
  "language_info": {
   "codemirror_mode": {
    "name": "ipython",
    "version": 3
   },
   "file_extension": ".py",
   "mimetype": "text/x-python",
   "name": "python",
   "nbconvert_exporter": "python",
   "pygments_lexer": "ipython3",
   "version": "3.10.13"
  },
  "papermill": {
   "default_parameters": {},
   "duration": 7.480292,
   "end_time": "2024-06-02T09:39:32.322105",
   "environment_variables": {},
   "exception": null,
   "input_path": "__notebook__.ipynb",
   "output_path": "__notebook__.ipynb",
   "parameters": {},
   "start_time": "2024-06-02T09:39:24.841813",
   "version": "2.5.0"
  },
  "widgets": {
   "application/vnd.jupyter.widget-state+json": {
    "state": {
     "06fe41ad2c0b4f009846d960c533d254": {
      "model_module": "@jupyter-widgets/output",
      "model_module_version": "1.0.0",
      "model_name": "OutputModel",
      "state": {
       "_dom_classes": [],
       "_model_module": "@jupyter-widgets/output",
       "_model_module_version": "1.0.0",
       "_model_name": "OutputModel",
       "_view_count": null,
       "_view_module": "@jupyter-widgets/output",
       "_view_module_version": "1.0.0",
       "_view_name": "OutputView",
       "layout": "IPY_MODEL_38dbee9111cb40b09a5c6bc2f30098ac",
       "msg_id": "",
       "outputs": [
        {
         "data": {
          "image/png": "iVBORw0KGgoAAAANSUhEUgAAAjMAAAHHCAYAAABKudlQAAAAOXRFWHRTb2Z0d2FyZQBNYXRwbG90bGliIHZlcnNpb24zLjcuNSwgaHR0cHM6Ly9tYXRwbG90bGliLm9yZy/xnp5ZAAAACXBIWXMAAA9hAAAPYQGoP6dpAACCWElEQVR4nO3dd3hUddYH8O+dSZnUSScJCSmUQAgtdMSCIkUMomtDsa+riGLDwq6K6CqgAhZ8cXVfxQX7i7JiQRFQRJqUAKGGECCBFFInvczc94/JnSSkTbkzc2fy/TxPnsfM3Mz8MobMyfmd3zmCKIoiiIiIiFyUytkLICIiIrIFgxkiIiJyaQxmiIiIyKUxmCEiIiKXxmCGiIiIXBqDGSIiInJpDGaIiIjIpTGYISIiIpfGYIaIiIhcGoMZIlI8QRDw4osvOnsZRKRQDGaIiIjIpTGYISIiIpfGYIaIupWqqipnL4GIZMZghohs8uKLL0IQBJw4cQKzZs2CVqtFeHg4nn/+eYiiiJycHFx33XUIDAxEZGQkli5d2urra2tr8eKLL6Jfv37QaDSIiorCDTfcgKysrA6f88yZM3jooYeQlJQEHx8fhIaG4qabbsLp06dbXbdq1SoIgoDffvsNDz30ECIiIhATE2O6/8cff8Sll14KPz8/BAQEYNq0aTh8+HCrx7j77rvh7++Pc+fOYcaMGfD390d4eDjmzZsHvV5v+wtIRDZjMENEsrjllltgMBiwePFijB49Gv/85z/x5ptv4uqrr0bPnj2xZMkS9OnTB/PmzcPWrVsBAHq9Htdeey0WLlyI4cOHY+nSpXj00UdRXl6OjIyMDp/rzz//xPbt23Hrrbfi7bffxoMPPohNmzbhiiuuQHV1dZvrH3roIRw5cgQvvPACnn32WQDA6tWrMW3aNPj7+2PJkiV4/vnnceTIEYwfP75NUKTX6zF58mSEhobijTfewOWXX46lS5fi/fffl+8FJCLriURENliwYIEIQPzb3/5muq2xsVGMiYkRBUEQFy9ebLq9tLRU9PHxEe+66y5RFEXxww8/FAGIy5Yta/O4BoPB9N8AxAULFpg+r66ubnP9jh07RADif/7zH9NtH330kQhAHD9+vNjY2Gi6vaKiQgwKChLvv//+Vo+Rn58varXaVrffddddIgDxpZdeanXtsGHDxOHDh3f0shCRAzEzQ0Sy+Otf/2r6b7VajREjRkAURdx3332m24OCgpCUlIRTp04BANauXYuwsDA88sgjbR5PEIQOn8vHx8f03w0NDSguLkafPn0QFBSEffv2tbn+/vvvh1qtNn2+ceNGlJWVYebMmSgqKjJ9qNVqjB49Glu2bGnzGA8++GCrzy+99FLT90FEzuXh7AUQkXvo1atXq8+1Wi00Gg3CwsLa3F5cXAwAyMrKQlJSEjw8LPtVVFNTg0WLFuGjjz7CuXPnIIqi6b7y8vI21yckJLT6PDMzEwBw5ZVXtvv4gYGBrT7XaDQIDw9vdVtwcDBKS0stWjcR2QeDGSKSRcvMR2e3AWgVfFjjkUcewUcffYTHHnsMY8eOhVarhSAIuPXWW2EwGNpc3zKTA8B0zerVqxEZGdnm+ouDq46+DyJSBgYzROQ0vXv3xq5du9DQ0ABPT0+zv+7//u//cNddd7U6GVVbW4uysjKznxcAIiIiMHHiRIvWTETKw5oZInKav/zlLygqKsKKFSva3NdZ9katVre5/5133jH7qPTkyZMRGBiIV199FQ0NDW3uv3DhglmPQ0TKwMwMETnNnXfeif/85z944oknsHv3blx66aWoqqrCL7/8goceegjXXXddu1937bXXYvXq1dBqtUhOTsaOHTvwyy+/IDQ01KznDQwMxMqVK3HHHXcgNTUVt956K8LDw3H27Fl8//33uOSSS9oNsIhImRjMEJHTqNVq/PDDD3jllVfw6aefYu3atQgNDcX48eMxaNCgDr/urbfeglqtxieffILa2lpccskl+OWXXzB58mSzn/u2225DdHQ0Fi9ejNdffx11dXXo2bMnLr30Utxzzz1yfHtE5CCCaGslHhEREZETsWaGiIiIXBqDGSIiInJpDGaIiIjIpTGYISIiIpfGYIaIiIhcGoMZIiIicmlu32fGYDDg/PnzCAgI6HQKLxERESmHKIqoqKhAdHQ0VKrOcy9uH8ycP38esbGxzl4GERERWSEnJwcxMTGdXuP2wUxAQAAA44sRGBjo5NUQERGROXQ6HWJjY03v451x+2BG2loKDAxkMENERORizCkRYQEwERERuTQGM0REROTSGMwQERGRS3NqMLN161akpaUhOjoagiBg3bp1ba45evQopk+fDq1WCz8/P4wcORJnz551/GKJiIhIkZwazFRVVWHIkCF49913270/KysL48ePR//+/fHrr7/i4MGDeP7556HRaBy8UiIiIlIqQRRF0dmLAIzVyt988w1mzJhhuu3WW2+Fp6cnVq9ebfXj6nQ6aLValJeX8zQTERGRi7Dk/VuxNTMGgwHff/89+vXrh8mTJyMiIgKjR49udyuqpbq6Ouh0ulYfRERE5L4UG8wUFhaisrISixcvxpQpU/Dzzz/j+uuvxw033IDffvutw69btGgRtFqt6YPdf4mIiNybYreZzp8/j549e2LmzJn49NNPTddNnz4dfn5++Oyzz9p9nLq6OtTV1Zk+lzoIcpuJiIjIdViyzaTYDsBhYWHw8PBAcnJyq9sHDBiAbdu2dfh13t7e8Pb2tvfyiIjoInqDiN3ZJSisqEVEgAajEkKgVnHAL9mfYoMZLy8vjBw5EsePH291+4kTJxAXF+ekVRERUXs2ZORh4fojyCuvNd0WpdVgQVoypqREOXFl1B04NZiprKzEyZMnTZ9nZ2cjPT0dISEh6NWrF5566inccsstuOyyyzBhwgRs2LAB69evx6+//uq8RRMRUSsbMvIwe80+XFyzkF9ei9lr9mHlrFQGNGRXTq2Z+fXXXzFhwoQ2t991111YtWoVAODDDz/EokWLkJubi6SkJCxcuBDXXXed2c/Bo9lERPajN4gYv2Rzq4xMSwKASK0G2565kltOZBFL3r8VUwBsLwxmiIjsZ0dWMWZ+sLPL6z67fwzG9g51wIrIXbhFnxkiIlK+wor2MzLWXkdkDQYzRERktYgA88bLmHsdkTUYzBARkdVGJYQgSqtBR9UwAoynmkYlhDhyWdTNMJghIiKrqVUCFqQlt3ufFOAsSEtm8S/ZFYMZIiKyyZSUKKyclQqtj2er2yMCvXksmxyCwQwREdlsSkoU5kzo3eq2hWkDGciQQzCYISIiWRRX1bf6POO8zkkroe6GwQwREcmiuNIYzPQM8gEAHMgtc+JqqDthMENERLIoqqwDAFzZPwIAcOhcOdy8LyspBIMZIiKShZSZuaRPGLzUKpRVN+BsSbWTV0XdAYMZIiKShZSZidJqMCAqAABwILfcmUsym94gYkdWMf6bfg47soqhNzCj5EqcOjWbiIjcgyiKpsxMWIA3BscE4UBuOQ7llmH6kGgnr65zGzLysHD9kVbDMqO0GixIS+ZpLBfBzAwREdlMV9uIer0BABDq54VBMVoAys/MbMjIw+w1+9pM/c4vr8XsNfuwISPPSSsjSzCYISIimxU3bTEFeHtA46nGkJggAEDGuXLFbtnoDSIWrj+C9lYn3bZw/RHFrp+aMZghIiKbFTVtMYX6ewEA+kT4w9dLjep6PbIuVDpzaR3anV3SJiPTkgggr7wWu7NLHLcosgqDGSIispmUmQnz9wZgnNmUEt201ZRT5qxldaqwouNAxprryHkYzBARkc2kk0xSZgYABjfVzRxUaN1MRIBG1uvIeRjMEBGRzaRtJikzAwCDY4MAAAcV2gl4VEIIorQadDTPW4DxVNOohBBHLouswGCGiIhs1pyZaQ5mhjRlZo7mVaC+0eCUdXVGrRKwIC253QJgKcBZkJYMtaqjcIeUgsEMERHZTOoxE95im6lXiC+CfD1RrzfgeH6Fs5bWqSkpUbh7XFyb2yO1Gqyclco+My6CwQwREdmsvcyMIAgY1FPqN1PmjGWZpbahddZo1phe2PbMlQxkXAiDGSIisllxVduaGaBlEXCZo5dktl1NR6/79fAHAHioVNxacjEMZoiIyGZFFW1PMwHA4KbmeUo90VSoq0V2URUEAbh+WAwAIIfDMV0OgxkiIrJJbYMeFXWNANpmZqROwCcKKlBd3+jopXVJysoMiAxEcnQgACC3tMaZSyIrMJghIiKbSFtMXmoVAjWt5xdHajWICPCGQQQOn9c5Y3mdkrr7jkoIQWywDwAgt7QaosgRBq6EwQwREdmkuEXDPEFoW2sibTUpsRPwruxiAMCYxBBEBxmDmap6PUqrG5y5LLIQgxkiIrJJe91/Wxqi0E7AJVX1OFFgnBs1Mj4EGk81IgKM22S5paybcSUMZoiIyCbtdf9tSamdgKUtpr4R/qYj5TGmrSbWzbgSBjNERGQTU2bGr4NgpqnXzOniapQraPumZb2MJDbEFwAzM66GwQwREdlE6v4bFtD+NlOwnxd6NQUJh84pZ6tJqpcZnRhquk3KzOSUMDPjShjMEBGRTaTMTFgHmRkAGBSjrE7AutoGHMkznq4a3SIzExPMzIwrYjBDREQ26SozA7QsAi5zxJK6tOd0CUQRiA/1RY9Ajen2WFMww8yMK2EwQ0RENumqZgZQXifgXe3UywCtC4DZa8Z1MJghIiKbmLaZOjjNBAApPbUQBCCvvBaFFbWOWlqHdp0yBjOjE0Jb3R4VpIEgADUNelMzQFI+BjNERGQ1vUFEiWnIZMfbTP7eHugTbhzkeDDHudmZqrpGZDQVIl+cmfH2UCOyaduJW02ug8EMERFZrbS6Hoam3ZgQv46DGaDlVlOZfRfVhX1nS9FoENEzyMd0FLul5hNNLAJ2FU4NZrZu3Yq0tDRER0dDEASsW7euw2sffPBBCIKAN99802HrIyKizknFv8G+nvBQd/6WMiS2qQjYycez2+sv01IMi4BdjlODmaqqKgwZMgTvvvtup9d988032LlzJ6Kjox20MiIiMoc59TKSlkXAziyulYp/R3cQzLQcOEmuwaPrS+xn6tSpmDp1aqfXnDt3Do888gh++uknTJs2zUErIyIic3Q1l6mlAVEB8FQLKKmqR25pTbtbPPZW26BHetPAy64yMznMzLgMRdfMGAwG3HHHHXjqqacwcOBAZy+HiIgu0tVcppa8PdToHxkIwHlHtA/klKG+0YDwAG8khPm1e00MMzMuR9HBzJIlS+Dh4YG5c+ea/TV1dXXQ6XStPoiIyD6KLdhmApo7ATurCLhlfxlBENq9RsrMnGOvGZeh2GBm7969eOutt7Bq1aoOf+Das2jRImi1WtNHbGysHVdJRNS9NdfMdL3NBDR3AnbWWAOp+HdMB1tMgLHXjEoA6hoNuFBR56ilkQ0UG8z8/vvvKCwsRK9eveDh4QEPDw+cOXMGTz75JOLj4zv8uvnz56O8vNz0kZOT47hFExF1M9JpplAzMzNSEXDGOR0MBsdmPRr0Buw9UwoAGHVRs7yWPNUqRGmbjmezbsYlOLUAuDN33HEHJk6c2Oq2yZMn44477sA999zT4dd5e3vD29u8f1RERGQbS04zAUDfCH9oPFWorGvEqaJK9IkIsOfyWjl0rhw1DXoE+3qib4R/p9f2DPbBubIa5JZWY3hcsINWSNZyajBTWVmJkydPmj7Pzs5Geno6QkJC0KtXL4SGto6cPT09ERkZiaSkJEcvlYiI2lFkysyYt83koVYhJVqLPWdKcSCn3KHBjDTCYGR8CFSqzssXYoN9sTu7hL1mXIRTt5n27NmDYcOGYdiwYQCAJ554AsOGDcMLL7zgzGUREZEZRFE0ZWbCzczMAM1bTYcc3Dxvd3YxAGB0YsdbTBKeaHItTs3MXHHFFRZVip8+fdp+iyEiIotU1etR12gAYH5mBmjuBOzIImC9QcSe08Z6mY6a5bXUcno2KZ9iC4CJiEjZippO+vh6qeHrZf7fxlJm5sh5HRr0BnssrY2jeTpU1DUiwNsDA6ICu7xeaujHYMY1MJghIiKrFFeZ3/23pfhQXwRoPFDXaMDx/Ap7LK2NnaeMW0wj4oOh7qJeBmjOzJwrrXH4qSuyHIMZIiKyyoUK87v/tiQIAgabmuc5pm6mebhk1/UyABAZqIFaJaBeb0Ahe80oHoMZIiKyiikz42d5O4zmoZNlMq6ofQaDiN2nm4ZLJnZdLwMYT11FB2kAsAjYFTCYISIiqxQ1ZWbCAyzbZgJadgK2f2Yms7ASZdUN8PFUY1BPrdlfFxMkDZxkMKN0DGaIiMgqcmRmThRUoKZeL+ey2tjVdCR7eFwwPNXmv+2ZTjSVsAhY6RjMEBGRVSydy9RSlFaDMH9v6A0ijuTZdyBwy+GSlpAGTvJEk/IxmCEiIqsUWTiXqSVBEExbTfasmxFF0dT515z+Mi3FhkjzmbjNpHQMZoiIyCqWzmW6WHMRsP3qZrKLqlBUWQcvDxWGxAZZ9LXMzLgOBjNERGQVaWK2NdtMADDYAZ2ApS2mobFB0HiqLfpaqWbmfFkN9Ow1o2gMZoiIyGL1jQaU1zQAsCEz03Sy6NSFKuhqG2RbW0tSfxlLt5gAoEegBp5qAY0GEfm6WrmXRjJiMENERBYrqTJmZdQqAVofT6seI9TfGz2DjNmPDDtsNRnrZZqGS5rZLK8ltUpAdJB0ool1M0rGYIaIiCwm1cuE+nlBZcZ4gI40D52UP5jJLa3B+fJaeKgEpMYFWfUYHDjpGhjMEBGRxUzBjJVbTBJ7dgKW6mUGxWgtGoTZUiyLgF0CgxkiIrJYkY3FvxJ7zmja3dQsz9L+Mi1JmRkez1Y2BjNERGSxYhuPZUsG9dRCEIBzZTWmbI9cpMzMGCvqZSTNx7MZzCgZgxkiIrKYLd1/WwrQeCIxzA8AcEjG7Ex+eS3OFFdDJQDD44OtfhypcR63mZSNwQwREVms2Ibuvxcb0lQ3I2e/GWkeU3J0IAI11p22ApozM3nltWjUG2RZG8mPwQwREVnsgkzbTIB96mak/jKj4q3fYgKAcH9veKlV0BtE5JWz14xSMZghIiKLNWdmbNtmAoDBTWMGDuaWQRTl6bQr1cuMTrS++BcAVCoBPXk8W/EYzBARkcWkmplwGTIzyVGB8FAJKKqsx3kZsh9FlXU4WVgJABgZb1swA/BEkytgMENERBYxGERTB2A5MjMaTzX69QgAABzMKbP58facNmZlknoEIMTP9vVx4KTyMZghIiKLlNc0oLFp8GKon+2ZGUDeTsA7TzXVy9jQX6al5i7AzMwoFYMZIiKySHGVcYtJ6+MJLw953kakTsDbMi/gv+nnsCOr2OpJ1btlqpeRxIY0ZWZKmJlRKuv6OxMRUbd1oUK+LSZJRdPU7IzzOjz6eToAIEqrwYK0ZExJiTL7ccqrG3A0XweAmZnuhJkZIiKyiJSZkeNYNgBsyMjDoh+Otbk9v7wWs9fsw4aMPLMfa8+ZEogikBjmh4gAjSzrk4KZfF0t6hvZa0aJGMwQEZFFiirk6f4LAHqDiIXrj6C9DSXptoXrj5i95SQdyZYrKwMYT2x5e6hgEIG8cm41KZFV20xlZWXYvXs3CgsLYTC0jlLvvPNOWRZGRETKVFwlDZm0PTOzO7uk02Z0Iozdd3dnl2Bs744b4OkNInZnl2BDRj4AYKQNIwwuJggCYoJ9kHWhCrmlNYgL9ZPtsUkeFgcz69evx+23347KykoEBgZCEATTfYIgMJghInJzUo8ZOU4yFVaY11fms91n4eOlRkp0IDzUrTcVNmTkYeH6I62CosUbjsPP28OiepvOxAT7NgUzrJtRIouDmSeffBL33nsvXn31Vfj6+tpjTUREpGBFTd1/wwJs32Yyt67l2wPn8e2B8/DzUmN4fAhGJ4RgTGIIzpfVYu5n+9tsUxVV1GH2mn1YOStVloCGAyeVzeJg5ty5c5g7dy4DGSKibkrOzMyohBBEaTXIL69tt24GAAI1HhgZH4w/T5dCV9uIrScuYOuJC50+rghAgLHe5urkSKhVQqfXd0VqnJdTwsyMElkczEyePBl79uxBYmKiPdZDREQKJ81lCpchM6NWCViQlozZa/ZBAFoFNFL48dqNgzElJQoGg4hj+RXYlV2MXadK8EdWESpqGzt8bHPrbcwRw/lMimZxMDNt2jQ89dRTOHLkCAYNGgRPz9aj1adPny7b4oiISHnkzMwAwJSUKKycldqm7iXyoj4zKpWA5OhAJEcH4p5LErBu/zk89kV6l49vbl1OZzjSQNksDmbuv/9+AMBLL73U5j5BEKDX621fFRERKVJ1fSOq642/58MC5AlmAGNAc3VyJHZnl6CwohYRARqMSgjpdHuoR6B59TZy9JuJbcrMFFTUoq5RD28Ptc2PSfKxOJi5+Cg2ERF1H9IWk7eHCn5e8r6hq1WCRdtBXdXbCDBmd+ToORPi5wUfTzVqGvQ4X1aLhDAez1YSNs0jIiKzSVtMYf7erVpzOINUbwM019dIpM8XpCXbXPwLNPeaATjWQImsCmZ+++03pKWloU+fPujTpw+mT5+O33//Xe61ERGRwpiOZcs4l8kWUr1NpLb1VlKkViPbsWyJNHAyhwMnFcfiYGbNmjWYOHEifH19MXfuXMydOxc+Pj646qqr8Omnn1r0WFu3bkVaWhqio6MhCALWrVtnuq+hoQHPPPMMBg0aBD8/P0RHR+POO+/E+fPnLV0yERHJpLhS3rlMcpiSEoVtz1yJz+4fg7duHYrP7h+Dbc9cKWsgA3DgpJJZXDPzyiuv4LXXXsPjjz9uum3u3LlYtmwZXn75Zdx2221mP1ZVVRWGDBmCe++9FzfccEOr+6qrq7Fv3z48//zzGDJkCEpLS/Hoo49i+vTp2LNnj6XLJiIiGZhOMikkMyOxtN7GGjyerVwWBzOnTp1CWlpam9unT5+Ov//97xY91tSpUzF16tR279Nqtdi4cWOr21asWIFRo0bh7Nmz6NWrl0XPRUREtmveZlJOZsZRYqXGeczMKI7F20yxsbHYtGlTm9t/+eUXxMbGyrKojpSXl0MQBAQFBXV4TV1dHXQ6XasPIiKSR3NmpvsFM+w1o1xWzWaaO3cu0tPTMW7cOADAH3/8gVWrVuGtt96SfYGS2tpaPPPMM5g5cyYCAwM7vG7RokVYuHCh3dZBRNSdFSusANiRpG2mCxV1qG3QQ+PJXjNKYXEwM3v2bERGRmLp0qX48ssvAQADBgzAF198geuuu072BQLGYuCbb74Zoihi5cqVnV47f/58PPHEE6bPdTqd3TNGRETdRZECC4AdJcjXE/7eHqisa0RuaQ36RPg7e0nUxOJgBgCuv/56XH/99XKvpV1SIHPmzBls3ry506wMAHh7e8Pbu/v9IyMicoTiqu5bMyP1mjmWX4Hc0moGMwqi6KZ5UiCTmZmJX375BaGh9q1UJyKijjXqDSitNgYzSjvN5Cg80aRMZmVmQkJCcOLECYSFhSE4OLjTro8lJSVmP3llZSVOnjxp+jw7Oxvp6ekICQlBVFQUbrzxRuzbtw/fffcd9Ho98vPzTevx8uqe/5CIiJylpLoeogioBCDYt3v+DmYRsDKZFcwsX74cAQEBpv+Wq4X1nj17MGHCBNPnUq3LXXfdhRdffBHffvstAGDo0KGtvm7Lli244oorZFkDERGZp6jCmJUJ8fOSZUSAK5IyMzyerSxmBTN33XWX6b/vvvtu2Z78iiuugCi2Nx7MqLP7iIjIsYqrum/xr4SZGWWyuGZGrVajsLCwze3FxcVQq3lMjYjIXSm1+68jSZmZc8zMKIrFwUxH2ZK6ujrWsRARubHibtz9VyINmyyqrEd1faOTV0MSs49mv/322wCMR9P+/e9/w9+/+UiaXq/H1q1b0b9/f/lXSEREinBBysz4dd9gRuvjiQCNBypqG3GutAZ9ewQ4e0kEC4KZ5cuXAzBmZt57771WW0peXl6Ij4/He++9J/8KiYhIEUyZmYDunYWPCfbF0TwdchnMKIbZwUx2djYAYMKECfj6668RHBxst0UREZHymLr/duPMDADEBvvgaJ6OJ5oUxOIOwFu2bLHHOoiISOGYmTHiiSblMSuYeeKJJ/Dyyy/Dz8+v1dyj9ixbtkyWhRERkbIUsWYGQMsuwMzMKIVZwcz+/fvR0NBg+u+OyNVMj4iIlEUUxRaZme4dzEgnmnJKmJlRCrOCmZZbS9xmIiLqfnS1jajXGwAAoX7dfZuJmRmlsXnQpE6nw7p163Ds2DE51kNERApU3LTFFODtAY1n926QKgUzpdUNqKxjrxklsDiYufnmm7FixQoAQE1NDUaMGIGbb74ZgwYNwtq1a2VfIBEROV9RZfeelt1SgMYTQb6eAJidUQqLg5mtW7fi0ksvBQB88803EEURZWVlePvtt/HPf/5T9gUSEZHzSZmZ7tz9tyXTVhPrZhTB4mCmvLwcISEhAIANGzbgL3/5C3x9fTFt2jRkZmbKvkAiInI+zmVqLSZIOp7NzIwSWBzMxMbGYseOHaiqqsKGDRswadIkAEBpaSk0Go3sCyQiIucr4lymVpqLgJmZUQKLm+Y99thjuP322+Hv74+4uDhcccUVAIzbT4MGDZJ7fUREpADNmRkGM0CL49nMzCiCxcHMQw89hFGjRiEnJwdXX301VCpjcicxMZE1M0REbkoKZsK5zQSAmRmlsTiYAYARI0ZgxIgREEURoihCEARMmzZN7rUREZGF9AYRu7NLUFhRi4gADUYlhECtsr2habHpNBMzMwBHGiiNVcHMf/7zH7z++uumgt9+/frhqaeewh133CHr4oiIyHwbMvKwcP0R5JXXmm6L0mqwIC0ZU1KibHrsIp5makXKzJTXNEBX24BAjaeTV9S9WVwAvGzZMsyePRvXXHMNvvzyS3z55ZeYMmUKHnzwQSxfvtweayQioi5syMjD7DX7WgUyAJBfXovZa/ZhQ0aeTY9fzD4zrfh5eyCkqRMyj2c7n8WZmXfeeQcrV67EnXfeabpt+vTpGDhwIF588UU8/vjjsi6QiIg6pzeIWLj+CMR27hMBCAAWrj+Cq5Mjrdpyqm3Qo6Kp0y0zM81ign1QUlWP3NJqJEcHOns53ZrFmZm8vDyMGzeuze3jxo1DXp5tkT8REVlud3ZJm4xMSyKAvPJa7M4userxi6uMWRkvtQqBGquqE9xSbLB0oomZGWezOJjp06cPvvzyyza3f/HFF+jbt68siyIiIvMVVnQcyFhz3cWKKpob5gmC7cXE7oIDJ5XD4hB74cKFuOWWW7B161ZccsklAIA//vgDmzZtajfIISIi+4oIMK9hqbnXXay4it1/28Pj2cphcWbmL3/5C3bv3o2wsDCsW7cO69atQ1hYGHbv3o3rr7/eHmskIqJOjEoIQZRWg45yJgKMp5pGJYRY9fhFFez+254YqXFeCTMzzmZRZkan02HXrl2or6/H8uXLER4ebq91ERGRmdQqAQvSkjF7zb4290kBzoK0ZKv7zRRJmRk/BjMtxTZlZs6V1ph6rpFzmJ2ZSU9PR//+/TFlyhSkpaWhT58++Omnn+y5NiIiMtOUlCisnJUKXy91q9tD/LywclaqTX1mTJmZAG4ztdSzadhkRV0jdDWNTl5N92Z2MPPMM88gISEB27Ztw969e3HVVVfh4YcftufaiIjIAlNSonBZ3zAAgJSEuWVkrM0N86SamTBmZlrx8VIjrKmOiDOanMvsbaa9e/fi559/RmpqKgDgww8/REhICHQ6HQIDeb6eiEgJ8nXGwOPK/hH45Wghdll5HLslU/dfZmbaiAn2RVGlsddMSk+ts5fTbZmdmSkpKUFMTIzp86CgIPj5+aG4uNguCyMiIsvlN/WbuX6Y8ff1gZwyVNXZtgVi6v7LzEwbPNGkDBYVAB85cgT5+fmmz0VRxNGjR1FRUWG6bfDgwfKtjoiIzNaoN5h6yYxMCEZMsA9yS2vw5+kSXJEUYfXjci5TxzhwUhksCmauuuoqiGLrhtnXXnstBEEwVXLr9XpZF0hEROa5UFkHgwh4qASE+XljbGIovtqbix2niq0OZvQGESVV0tFsbjNdLDbEmJnh8WznMjuYyc7Otuc6iIjIRtJIgx6BGqhUAsb2NgYzO7OsLwcora6HoelvWGmwIjVjZkYZzA5m4uLi7LkOIiKykVQvE6U1dvod2zsUAHDoXDl0tQ0I1Hha/JhSvUywryc81Bb3WXV7LUcasNeM8/Ank4jITUiZmcimYCZK64OEMD8YRGD3KetONbFepnM9g4zBTFW9HqXVDU5ejeX0BhE7sorx3/Rz2JFVDL2hvdnrysfxp0REbiK/3LjVIWVmAGBMYiiyi6qw41QxJib3sPgxpWCGc5nap/FUIyLAG4UVdcgtrXaprbgNGXlYuP5Iq4nrUVoNFqQl29ybyNGYmSEichPNmRkf023jmraatltZN1NUyblMXXHF49kbMvIwe82+VoEMYNyqnL1mHzZk5DlpZdZxajCzdetWpKWlITo6GoIgYN26da3uF0URL7zwAqKiouDj44OJEyciMzPTOYslIpfiLulzS1xcMwMYMzMAcDRPh9KmU0mWKOY2U5diXWzgpN4gYuH6I2jvX4R028L1R1zq34xTg5mqqioMGTIE7777brv3v/baa3j77bfx3nvvYdeuXfDz88PkyZNRW1vb7vVERIDxr87xSzZj5gc78ejn6Zj5wU6MX7LZ5f7atNTFNTMAEB7gjb4R/gCAnacsz84018y4zvaJo7laZmZ3dkmbjExLIow/S7tl6B7tKBbXzAwbNqzdam1BEKDRaNCnTx/cfffdmDBhQpePNXXqVEydOrXd+0RRxJtvvonnnnsO1113HQDgP//5D3r06IF169bh1ltvtXTpRNQNSOnzi/+mlNLntg5dVCqDQUSBrm1mBjBuNWUWVmLHqWJMHWTZ927q/svMTIeim4qA954pwY6sYoxKCLF6QrkjSI0V5bpOCSzOzEyZMgWnTp2Cn58fJkyYgAkTJsDf3x9ZWVkYOXIk8vLyMHHiRPz3v/+1aWHZ2dnIz8/HxIkTTbdptVqMHj0aO3bs6PDr6urqoNPpWn0QUffgjulzcxVV1aHRIEIlAOEXBR7SEe0dVtTN8DRT5zZk5GHpzycAAEfyKlwiCxgRoOn6IguuUwKLg5mioiI8+eST+P3337F06VIsXboUW7duxbx581BVVYWff/4Zzz33HF5++WWbFiaNTejRo3X1fY8ePVqNVLjYokWLoNVqTR+xsbE2rYOIXIc7ps/NJdXLRARo2vSDGZ0QCkEAMgsrLf5ru8iUmeE208WkLGDJRbVISi+iHZUQgiitBp3ljjxUAiID3TiY+fLLLzFz5sw2t99666348ssvAQAzZ87E8ePHbV+dFebPn4/y8nLTR05OjlPWQUSO547pc3O1Vy8jCfbzwoDIQADATgv6zYiiaMrMXJzt6e5cOQuoVglYkJbc7toljQYR1727DZuOFjhsXbawOJjRaDTYvn17m9u3b98Ojcb4j8hgMJj+21qRkZEAgIKC1i9kQUGB6b72eHt7IzAwsNUHEXUP7pg+N1d7J5lasmarqapej7pGAwBmZi7m6lnAKSlRGBqrbXN7lFaDV69PwdDYIOhqG3Hfx3vw+k/HFBmUtWRxAfAjjzyCBx98EHv37sXIkSMBAH/++Sf+/e9/4+9//zsA4KeffsLQoUNtWlhCQgIiIyOxadMm02PpdDrs2rULs2fPtumxnU1vELE7uwSFFbWICNAovliMyFVI6fP88tp2/+oUYMxcjEoIcfTS7O58U8O89jIzADA2MRT/uy0bO7KKzH7MogpjVsbXSw1fL/ZYbcnVs4BVdY04mlcBAFh0Qwp8vTxavR/dODwWr/5wFKu2n8a7W7KQnlOGt24dptjaKYt/Op977jkkJCRgxYoVWL16NQAgKSkJH3zwAW677TYAwIMPPmhWwFFZWYmTJ0+aPs/OzkZ6ejpCQkLQq1cvPPbYY/jnP/+Jvn37IiEhAc8//zyio6MxY8YMS5etGO7UcZFIaaT0+ew1+9rcJ/25sCAt2S3/eOgqMzMqMQQqAThdXI288hpEtWis15HiKnb/7YirZwE3HStEXaMB8aG+uHVkrzanlL08VHhx+kCkxgXj2bUH8cfJYlz79ja8e/swDI9T3h8DVvWZuf3227Fjxw6UlJSgpKQEO3bsMAUyAODj42PWNtOePXswbNgwDBs2DADwxBNPYNiwYXjhhRcAAE8//TQeeeQR/O1vf8PIkSNRWVmJDRs22LyF5Szu1nGRSImmpERh5axUaDxb/3qL1Grc9lg20H7335YCNZ4Y1NO4rWDuVtOFCnb/7UhXRbQCjIGlUrOAPxw0vt9MGxzV6XDM6UOi8d85l6B3uB/ydbW45V878eG2bIiiqKjGlFbnDevr61FYWAiDwdDq9l69epn9GFdccQVEseNvXhAEvPTSS3jppZesXaZidFUsJsBYLHZ1cqRb/tVI5EhTUqIwaFs2/jxdCgAYFR+Mz/421q3/bXWVmQGAMb1DcSC3HNuzinFDakyXjyllZhjMtNUyCygA7f5uV2oWsKquEVuOFwIArjGj71DfHgH478Pj8ezag/juYB5e+u4Ivjt0HudKa1CgqzNd58xdBoszM5mZmbj00kvh4+ODuLg4JCQkICEhAfHx8UhISLDHGt2CqxeLEbmawormX7Il1Q2KfFORiyiKpmCms+O043qHATA/M1Nkysxwm6k9UhawvTqlxTcMUmwWsOUWU3KUeYdk/L098M7MYXgxLRkqAdh3pqxVIAM4d5fB4szM3XffDQ8PD3z33XeIiuo8PUXNXL1YjMiViGJzN1wAOF1UhfpGA7w83HO2bklVPer1xix5j06CmRFxwfBQCThXVoOckmrTTKGOMDPTtSkpUbg6OdJ0qOPdLSdxoqASBRV1XX+xk0hbTNcMsuw9XBAE3DE2Hu9sPoniduZ8OXOXweJgJj09HXv37kX//v3tsR635erFYkSuRFfbiNoG45u7j6caNQ16nCmuQt8eAU5emX1IWd8wf+9OAzY/bw8MiQ3C3jOl2J5VhFtCOi8LkHrMhPoxM9MZtUowHX0XReCxL9Lx6a6zeOiK3m0aGDqbpVtMF9udXdJuICNpucsgvSaOYPGrnJycjKIi84/2kZEgoNNui4Cyi8WIXElhU1ZG6+OJpEhjAJNZWOnMJdmVOfUyknEW9JuRuv+GBTAzY66pgyIR4ueFfF0tNh0rdPZy2tjcYotpYLTlfdiUustgcTCzZMkSPP300/j1119RXFzMOUhm2JFVjHs++tNUINZRUHPn2Hi33tcnchRpL79HYPPE6MwC9w1m8nQdd/+92NjEpmDmVHGnBzCAlpkZBjPm8vZQ4+YRxjE6a3aecfJq2vreyi0miVJ3GSwOZiZOnIidO3fiqquuQkREBIKDgxEcHIygoCAEBwfbY40u7ffMC7hn1W7UNOhxad8wvH3r0Da/cKQjpJ/uPgNdbYMzlknkVqR6mR6BGvSRgpnCCmcuya7ymxrmmZOZSY0LhpdahQJdHU4VVXV6rTQxOzyA20yWuH10LwgC8HtmEU5dUE4QbesWE6DcI+kW18xs2bLFHutwS1uOF+KB1XtR32jAlf0j8D+3p0Ljqca0wdGtOgAnRQZg+optyCmpwfy1h7DitmEsrCayQUFF89DFvj2MwcxJN95m6mwu08U0nmqkxgVh56kS7MgqRu9w/3avq280oLzG+McVMzOWiQ3xxYSkCGw+VohPdp3F89cmO3tJAJq3mOKs3GICOj+S7szGlBYHM5dffrk91uF2Nh4pwJxP9qFeb8Ck5B5YcVuqqTCvZbGYZMVtqbhx5XZ8fygP43aH4vbRcc5YNpFbKGy1zWSsmTl1oQqNeoPiCjLlYEnNDACMTQwzBjOnijFrTPu/a6RJ0B4qAVofT3kW2o3cMSYOm48V4qs9OZg3KQk+XmpnLwk/HLJti0kiHUm/uJt9pBP7zJgVzBw8eBApKSlQqVQ4ePBgp9cOHjxYloW5sh8P5eGRz/aj0SBi2qAovHnrUHh28Qt0aGwQnp6ShFd/OIaX1h/B8Lhg9I/kkEwia7TcZuoZ5AONpwq1DQbklNYgIczPyauTX3OPma5HFADGoZPLfwF2ZhnrZtp7Y5PqZUL8vKBiLZ/FLusXjtgQH+SU1GD9wfOmOhpnabnFNM3KLaaWLj6S7uw5g2YFM0OHDkV+fj4iIiIwdOhQCILQbuGYIAjQ6/WyL9KVrD9wHo99kQ69QcR1Q6Ox9KYhZv8l+NfxidiRVYwtxy9gzif7sP6R8RzuRmSF5mDGGyqVgD4R/sg4p0NmQYXbBTOiKJr+OjY3MzM0NggaTxWKq+pxoqDSdOKrJSmYYY8Z66hVAm4fHYfFPx7Dmp1nnB7MbD5WiNoG27aYLtbeLoOzmPUum52djfDwcNN/nzp1CtnZ2W0+Tp06ZdfFKt03+3Px6Of7oTeIuCG1J5bdPNSilLZKJWDpzUPRI9AbWReqsOC/h+24WiL3JZ1mimhqICdtNbnj8WxdTSNqGox/RJpTMwMYhwiOjDcWaHY0RVs6ls0hk9a7aXgMvNQqHMwtx4GcMqeuRa4tJqUy68/+uLjmPdWwsDD4+bnXXzbW0BvEVum1MyVVmP/1IYgicOvIWLx6/SCrUrMhfl5469ZhuO2Dnfhqby7G9QnF9cO6nqFCREaiKJp6XEjdcKUTTe5YBJynM55kCvb1hMbT/LqMMYmh+D2zCNuzinH3JW1H0RQ3ZWbCmZmxWqi/N6YNjsI3+89h9c4zGBIb5JR1VNfLu8WkRBbvYfTo0QM333wz7r33XowfP94ea1K8DRl5bQqfJLPG9MJL01Ns2mMekxiKuVf1xZu/ZOIf32RgSEwQEjs4cUDu7+LA2Zn70q6gtLoBDXrjNrj0RtzXjY9ndzUtuyNS87xd2SUwGMQ2v7NMPWaYmbHJrDFx+Gb/Oaw/cB7PTRuAIF/Hv57SFlOvEPm2mJTG4rL+NWvWoKSkBFdeeSX69euHxYsX4/z58/ZYmyJtyMjD7DX7OhwaeUnvMFmK5R65si/GJIagul6Phz/dj9qG7l2L1F1tyMjD+CWbMfODnXj083TM/GAnxi/Z7JRBbq5CqpcJ9fMynSCUxhicLKyEwdB5ozhXY+lJJsmgnlr4e3ugvKYBR/LaNjyVesywZsY2qb2CkBwViLpGA/5vb65T1iBtMU0b7J5bTIAVwcyMGTOwbt06nDt3Dg8++CA+/fRTxMXF4dprr8XXX3+NxsZGe6xTEfQGEQvXH2l31DtgPGP/0ndHoJfhl6VaJeCtW4chxM8LR/J0WPTDUZsfk1xLR4GzMyfTugIpmIloMXAxNtgHXh7GE03nymqctTS7sKTHTEseahVGxhsbnbY32uCCKTPDYMYWxuGMxlKNNTvPODyYrq5vxOZj7r3FBFgRzEjCw8PxxBNP4ODBg1i2bBl++eUX3HjjjYiOjsYLL7yA6upqOdepCLuzSzrMyACtB2zJoUegBktvHgIA+HjHGWzIyJflcUn5OgucpdsWrpcncHY3LXvMSDzUKiQ2nWJyt60mU/ffTqZld2Rc7zAAxtEGF2vOzHCbyVbXDY1GgLcHThdXY9tJx8427A5bTIANwUxBQQFee+01JCcn49lnn8WNN96ITZs2YenSpfj6668xY8YMGZepDM4YsDUhKQJ/uywRAPD0/x1Abqn7BYnUlqMDZ3diOpZ90WwYaavJ3WY0WZuZAWA6Vrs7uwSNekOr+3g0Wz6+Xh74y3DjQY7VDp7X5O6nmCQWFwB//fXX+Oijj/DTTz8hOTkZDz30EGbNmoWgoCDTNePGjcOAAQPkXKciOGvA1rxJSdiVXYIDOWWY+9l+fHr/GOw/W8aCUDem1Mm0rqCgornHTEt9wqUiYPcKZpprZiwrAAaAAVGBCNR4QFfbiEPnyjGsl3HbyWAQTR2AGczIY9aYXli1/TQ2HS3A+bIaRAdZ/v/LUt1liwmwIpi55557MHPmTPzxxx8YOXJku9dER0fjH//4h82LUxppwFZ+eW276X8Bxr+O5B6w5eWhwoqZw3DN279j39kyDP/nRlTVNRcERzmxhTTZh1In07qCi3vMSKQZTe4azFiTmVGrBIxJDMXPRwqw41SxKZgpr2lAY9MWZogft5nk0CciAGMTQ7HjVDE+230WT05Ksvtzbjl2AbUNBsSG+CClp/tuMQFmbjOlpqaitLQUAPDAAw9g2bJlHQYyAODj44MFCxbIs0IFkQZsAWgzMdTeA7ZiQ3wxc6Sxg2TLQAZgQag7kgLnjjhrMq0rKGwxyqAl6Xj2yYKKdjuYu6KK2gZU1BkPXVgTzADNW00ti4CLq4wBodbH03QijGwnFQJ/tjsH9Y2GLq623feHjCeNpw2KdustJsDMYObo0aOoqjKOil+6dKnpv7sjacDWxb84IrUarJyVarfsiN4gYv3B9oMVFoS6n5aB88WcOZnWFRS0UwAMAHGhfvBQCaiq13daj+RKpPqgAI0H/L2tG30iBTN7Tpea3mAvVLD7rz1cndwDEQHeKKqsw0+H7XugozttMQEWzGa65557MH78eIiiiNdffx3+/u03cXvhhRdkXaASOWPAliUFoUqZlUG2SQhr/9+YMyfTKp3eIJqOFF+cmfHyUCE+zA8nCytxsrDSITUL9mbpTKb29IsIQKifF4qr6nEgtwwj40NMmRnWy8jLU63CraN64e1NmVi98wzShkTb7bm60xYTYGYws2rVKixYsADfffcdBEHAjz/+CA+Ptl8qCEK3CGYAxw/YYkFo9/P25kwAwDUpkbhjbBzu+3gPquv1ePe2VKTGBTt5dcpUXFUHvUGESjA2zbtY3wh/nCysRGZhJS7rF+6EFcrL2u6/Lama6ma+P5SHHVnFGBkfgqIKKZhhZkZuM0fF4t0tJ7E7uwQnCirQr0fbIZ9y6C6nmCRmbTMlJSXh888/x59//glRFLFp0ybs37+/zce+ffvsvd5uiwWh3cvx/ArTL6NHJ/bD2N5hpsGAGefLnbk0RSsob84otDfk1VQ34ya9ZkwnmazoMdPSmKY/zLY3DZ0s5kkmu4nS+uDqAT0AGJvo2UN322ICrOgzYzAYEBERYY+1UCekgtCO4msWhLqXtzdnQhSNv4iSIo1/uUlD6tKdPH1XyaQako6KYfu4Wa8ZW3rMtCTNadp3tgy1DfrmuUx+DGbsQSoE/nrfOVTWyd81f8uxC6hp0CM2xAeDemplf3wlMmub6dtvv8XUqVPh6emJb7/9ttNrp0+fLsvCqDWpIHT2mn0QgHaPhrMg1D20zMrMvaqv6fZhTcHMAQYzHZJ6zHSUoWweOFkJURRdPv1u6v5rYzCTGOaHiABvFFbUYd/ZUhRJ3X8DuM1kD+N6hyIx3A+nLlRh3f5zmDUmTtbH725bTICZwcyMGTOQn5+PiIiITjv7CoIAvZ4DEe1FOkl18cRuD5WAd2YOY0Gom2gvKwMAg2OMf2FlXahCeU0DtD6ezlqiYnV0kkmSEOYHlWDso3Khss7lt2XlyswIgrEG8L/p57Ejq5iZGTsTBAG3j47Dy98dwZqdZ3D76F6yBR019fput8UEmLnN1HJryWAwdPjBQMb+pqREYdszV+Kz+8dg8Q2D4KVWodEgIpiNrdxCR1kZwDjwLzbEWOh5KJd1M+3pqMeMROOpRlyocUbTSTfYasrXWd/992LjWvSbkeYyhTMzYzc3psZA46nCsfwK7D1TKtvjbjleiJoGPWKCu88WE2DDbCZyHukk1a2jeuHGEcZ5H6v+OO3cRZEs3t7UflZGMiQmCABwILfMsQtzEaa5TB1kZgCgT4R7dAKuqdejrLoBgO2ZGQAYm2gcOpmeU2Z6HZmZsR+tryeuG9ITgLzzmr5v6kc2rRttMQFmbjO9/fbbZj/g3LlzrV4MWe7ucfH4dNdZ/HwkH7ml1YgJ9nX2kshKx/Mr8H0HWRnJ0NggfHcwD/vPljlwZa6jo1EGLfWJ8MfGIwUuPz1bysr4eqkRqLGuYV5LsSE+6Bnkg3NlNaZRBmEBDGbs6Y6xcfhiTw6+P3geU1MiUddosKlvWastpsHdZ4sJMDOYWb58uVkPJggCgxkH69cjAJf0CcUfJ4uxZudZPDu1v7OXRFZ6e5Oxr0xHWRnAGMwAxr+e3aGAVW5Sn6WLJ2a3ZCoCdvFtprym4t9IrUaWnwOpbub/9uYCMNbiHcotw6iEUB4ssJOUnlrEh/ridHE1HlzT3NrE2nl73XWLCTAzmMnOzrb3OsgGd42Nxx8ni/H5n2fx6FV94eOldvaSyELmZGUAYGC0FmqVgKLKOuSV17pFF1u5NOgNplM4nW0z9Y0wBoonXXybKV+G7r8X82vxu6PRIGLmB7s4yNaONmTk4XRxdZvbpXl7lo7IkX6HdLctJoA1M27hqgE9EBPsg7LqBvw3/Zyzl0NWMCcrAwA+Xmr0b7qfR7Rbu9DUtdZTLSDYt+PC1d4RxgLg4qp6lDQ1h3NFppNMgfIEtBsy8vDxjra1Gxxkax96g4iF64+0e5818/Zq6vXYfNS4xXRNNzrFJLFqozU3Nxfffvstzp49i/r61r8Mli1bJsvCyHxqlYC7xsbjlR+OYtX207hlZGy3i8pdmblZGcmQ2CAcPq9Dek4ZpnbDX1odkYpWIwI0UHWyLeLr5YGYYB/kltbgZGGlyzaalDMz09UbqwDjG+vVyZHccpKJXPP29AYRu7NL8PORfNQ06NEzSGNq49CdWBzMbNq0CdOnT0diYiKOHTuGlJQUnD59GqIoIjU11R5rJDPcPCIWyzaewLH8CuzKLsGYRA6bdBXmZmUkQ2OC8Omus+wEfJHm4t+ui1b7Rvgjt7QGmYUVLhvMyNVjBuAgW2cwd47ekg3HkDYkGiPigpEcHQjPFmM6NmTktek7VlbdgJ8O53e7bUGLg5n58+dj3rx5WLhwIQICArB27VpERETg9ttvx5QpU+yxRjKD1tcT16f2xKe7zmLVH6cZzLgIS7MyADC0VxAA4NC5cugNIv9SbmJO8a+kb48AbDl+waWLgPN18nT/BTjI1hnMbdiYnlNm+sPFx1ONIbFajIgLgQgR/7Mlq003+Kp6vVX1Nq7O4pqZo0eP4s477wQAeHh4oKamBv7+/njppZewZMkSWRen1+vx/PPPIyEhAT4+PujduzdefvlliKJ5e4jdzd3j4gHAdEyblM/SrAwA9A73h5+XGtX1epc/Xiwnc3rMSPqYBk66cDAjY2aGg2wdz5x5e6F+XnhyUj9c2T8CWh9P1DTosfNUCVZsOYl32wlkWrKk3sYdWBzM+Pn5mepkoqKikJWVZbqvqKhIvpUBWLJkCVauXIkVK1bg6NGjWLJkCV577TW88847sj6Pu5COaRtEYM3Os85eDnXBmqwMYKyRGtS0J84i4Gbm9JiRNM9ocs1gsK5Rbzq5JUf3Xw6ydTxp3h6ANq+79Pkr16fgkSv74sO7R2L/81dj4+OXYdENg3BZv7BOH7vltmB3YXEwM2bMGGzbtg0AcM011+DJJ5/EK6+8gnvvvRdjxoyRdXHbt2/Hddddh2nTpiE+Ph433ngjJk2ahN27d8v6PO7krrHxAIDP/zyLmnqOl1Aya7IykuYJ2hxrICnoYpRBS1JmpkBXh/KaBruuyx4KmwI3Lw8Vgn1tn9FlzhsrB9nKT5q3d3F2LVKrabNNpFIJ6NsjADNH9cJfUmPMevzutC1occ3MsmXLUFlpTM0uXLgQlZWV+OKLL9C3b1/ZTzKNGzcO77//Pk6cOIF+/frhwIED2LZtW6fPU1dXh7q6OtPnOp1O1jUpnXRMO7e0Bv9NP4dbR/Vy9pKoHdZmZSScoN1WYRdDJlsK0HgiSqtBXnktThZWYnhcsL2XJ6u8FieZ5Dq52NEg20j2mbGrKSlRuDo5EruzS1BYUWtWB2BuC7ZlcTCTmJho+m8/Pz+89957si6opWeffRY6nQ79+/eHWq2GXq/HK6+8gttvv73Dr1m0aBEWLlxotzUpHY9puwZbsjJAc2bmeEEFaur1bJQIoKDC/MwMYMzOGIOZChcMZpq6/5r5vZrLmjdWsp00b89c0rZgfnltu3UzAoxBaHfaFlR007wvv/wSn3zyCT799FPs27cPH3/8Md544w18/PHHHX7N/PnzUV5ebvrIyclx4IqV4eYRsfDxVJuOaZOy2JqVAYxvYhEB3tAbRGSc51ZTbUPz0EVzTjMBLQZOuuCJJnt0/5VIb6zXDe2Jsb05ykCJuC3YlsXBjEqlglqt7vBDTk899RSeffZZ3HrrrRg0aBDuuOMOPP7441i0aFGHX+Pt7Y3AwMBWH92NdEwb4DRtJbI1KwMY5+gM5VaTidT919tDhUAf8xLO0lgDV5ye3dxjhuMsuitL6m26A4u3mb755ptWnzc0NGD//v34+OOPZd/eqa6uhkrVOt5Sq9UwGAyyPo87ajlN+1xZDXpyho9TSV06D+SU2ZyVkQyJDcLPRwqwn8FMq+Jfc7dV+/Zw3ePZ9szMkOvgtmAzi4OZ6667rs1tN954IwYOHIgvvvgC9913nywLA4C0tDS88sor6NWrFwYOHIj9+/dj2bJluPfee2V7DnfVcpr26h1nOE3bidrr0qnxVCG7qNLqzAwAZmZaKLCg+FfSJ9wYzJwrq0FlXSP8va2a7uIUeTr5esyQa7O03sZdyVYzM2bMGGzatEmuhwMAvPPOO7jxxhvx0EMPYcCAAZg3bx4eeOABvPzyy7I+j7viMW3n25CRh9lr9rVpFV/bYLB5eN+gGC0EAcgtrUFRZV3XX+DGTHOZLCiIDfbzQpi/MfjJcrHsTH65fN1/idyBLMFMTU0N3n77bfTs2VOOhzMJCAjAm2++iTNnzqCmpgZZWVn45z//CS+vjifiUjNO03YuaXifvbp0Bmo80bspu3Awt8yqx3AX0kkmS0/39HXBTsANegMKm2qEmJkhMrI4mAkODkZISIjpIzg4GAEBAfjwww/x+uuv22ONZCXpmDYArNp+mmMgHMyS4X3WGhITBABIP1tm9WO4g4Jy80cZtCTVzbhSEfCFijqIIuChEhDmZ9n3S+SuLN4kXr58easCO5VKhfDwcIwePRrBwa7Vq6E74DRt53HE8L6hsVqs3ZeL9NzufTy7uWbG2syM64w1yCtvLnZWdcNCT6L2WBzM3H333XZYBtkLp2k7jyO6dA6NNf4BcSCnDKIodtsGidI2k6WvZR8XPJ7Nk0xEbVkczPz555/47LPPcOLECXh5eSEpKQl33nknBgwYYI/1kQx4TNs5HNGlMykyAF4eKpTXNOBMcTXiw/ysfixXZskog5akbaazJdWobdBD46n8Tsqm7r8MZohMLKqZefrppzF69Gj8+9//Rm5uLk6dOoUVK1Zg0KBBWLJkCQCgtrYWW7ZssctiyTr9egRgXG/jNO3VO844ezndhtSls6NABrC9S6eXhwoDo42NIdO76RHtyrpGVNY1ArDsNBMAhPp5IdjXE6IIZF1wjewMMzNEbZkdzHz88cd455138Pbbb6O4uBjp6elIT09HSUkJli1bhoULF+LLL7/E1KlT8ccff9hzzWSFu8fFAzAe065t4DFtR5mSEoXbR7cd9ilnl86hpgnaZTY/lisqbDqW7e/tYXGvGEEQTJ2AXeVEU3OPGWZYiSRm/8t/99138eqrr+Lhhx9udbunpyfmzp2LxsZGzJw5E0OHDsWcOXNkXyjZpuU07WUbj2NgtLZbd4t0JEPTKbLpQ6Jx1YAI2V93U/O8bno8Wyr+jbBwi0nSO8Ifu0+XuMyMJmZmiNoyO5g5fPhwu91/JTNmzMC8efOwadMmBAUFybE2kpFaJWB0QghyS8/h/a3ZptujtBosSEvudnM8HOlAjvGk0TWDIu3yOkvHsw+f16G+0QAvD0XPj5WddBrM3AGTF5NONGW6yImm/HJ2/yW6mNm/9dRqNerr6zu8v6GhAf7+/gxkFGpDRh6+3te2cV5+ea3NnWipYzX1ehwvML5JDmnKoMgtLtQXQb6eqG804Fi+zi7PoWTNc5msy8y4Uq8ZvUE0fb/MzBA1MzuYSU1NxSeffNLh/atXr0ZqaqosiyJ5ddaJVrrNlk601LEjeeXQG0SEB3hb3J3WXIIgmLIz3XFOk7U9ZiRSzcyZ4mrUNSq7nqy4sg6NBhEqAQj3Z8M8IonZwcy8efOwaNEiPP300ygoKDDdnp+fj6eeegpLlizBk08+aZdFkm0c0YmW2pfetMU0JEZr1x4wQ0xFwN2veZ41c5la6hHojQBvD+gNIk4XVcu5NNlJ/44jAjTwUHev7USizphdM3Pttddi+fLlmDdvHpYuXQqtVgsAKC8vh1qtxuuvv460tDS7LZSs54hOtNQ+aWaSlDmxl6Gxxn+P6Tmlsj6u3iBid3YJCitqFVswbm2PGYkgCOjTwx/7z5bhZKFtk8ztLY/1MkTtsugc4yOPPILrr78eX331FTIzMwEAffv2xY033ojY2Fi7LJBs54hOtNS+g01jBgbbqV5GIgVLWReqoKttQKDG0+bH3JCRh4Xrj7TK6imxYFzq/mvtNhNgLALef7asqQhYOd/bxTgtm6h9FncAjomJweOPP26PtZCdOKITLbVVXt2A7KIqAMZtJnsK9fdGbIgPckpqcCi3HJf0CbPp8TZk5GH2mn1tfl6kgnG5euTYShSbC2KtPc0ENNfNKL0IuLnHDIMZopa46doNSJ1ogebOsxK5OtFSWwfPlQGQTht52f35TBO0bSwCdqWCcV1tI2obDACs7zMDAH2aTjSdVHivGfaYIWofg5luYkpKFFbOSm3zF52cnWipNelk0WA718tI5OoE7EoF41L3X62Pp01zlaReM6eKKtGoN8iyNntorplh91+ilizeZiLXNSUlClcnR+K3Exdw76o/AQA/PHopgh2QNeiODuQ2n2RyhJbBjC0TtF2pYLzAxuJfSbTWB75ealTX63GmpBq9w/3lWJ7smJkhah8zM92MWiXgyv4RCGvqUZFTouyjqK7MdJLJzsW/koHRWqhVAi5U1CFfZ32g4UoF480N82xbi0oloI/UCVihW02iKDZ3/7VTzyIiV2VVMFNWVoZ///vfmD9/PkpKjKnmffv24dy5th1mSZkSwnwBwFSgSvLKL69Fga4OKgGmqdb25uOlRlIPYyFr+tkyqx9HKhjviABjZkAJBePSSSY5Aqs+TdmYkwoda1BSVY/6pi0wW4M3IndjcTBz8OBB9OvXD0uWLMEbb7yBsrIyAMDXX3+N+fPny70+spP4UD8AUHyTMFclDX3s1yMAvl6O280d2isIAJBuw9BJtUrAXy9NbPc+pRWM29pjpqU+Ch9rINXLhPl7d7v5W0RdsfhfxBNPPIG7774bmZmZ0Gia/zq45pprsHXrVlkXR/aTEN4UzBQzM2MPUvGvvZvlXWyoTGMNfs+8AADQeLb+FaG0gvECGY8qm45nK3SbifUyRB2z+E/GP//8E//617/a3N6zZ0/k5+fLsiiyv4SmzMwpbjPZhdQsz1H1MhLp+Q7lGmdCWZM9+T3zAn49fgGeagHfP3IpzpfV4M6PdkMUgf97cBx6BivnJI1plIEM20zSiaasC5VWv3b2xB4zRB2zODPj7e0Nna7tZN4TJ04gPDxclkWR/cWHSdtMDGbkZjCIpuLfwQ46ySTpE+EPPy81qur1OGnFdoneIOKV748CAGaNiUPvCH9c2i/ctC15RmGZPLlOMwFAbIgvvDxUqGs0ILdUeduv7P5L1DGLg5np06fjpZdeQkNDAwDjXJOzZ8/imWeewV/+8hfZF0j2Ib05ldc0oLSq3smrcS+ni6ugq22Et4fK4XN+1CoBg5oCKGu2mr7el4tj+RUI0Hhg7pV9TbcnNgW/WQoKfg0G0XQ8XI6CWLVKMB3JVuJWE+cyEXXM4mBm6dKlqKysREREBGpqanD55ZejT58+CAgIwCuvvGKPNZId+HipTcc7sxX217ark7aYBkYHwtMJk41NE7QtLAKuqdfjjZ+PAwAeubIPgv2a+w8lNtVYZSmoOLa0uh4NemMX4vAA2zMzQPNW08kLyvk+JayZIeqYxTUzWq0WGzduxLZt23Dw4EFUVlYiNTUVEydOtMf6yI7iw3yRr6vF6aIqpPYKdvZy3MYB0xZTkFOeXyoCtvR49r9/P4UCXR1ign1w59j4VvclhksdcpUT+EpbTGH+XrIFjX0V3GumuceMcmqWiJTC6jOj48ePx/jx4+VcCzlYQpgfdp4qYd2MzKTtnaEOLv6VSMezjxdUoKZeDx+vrtv8F1bUYuVvWQCAp6f0bzMaQNp+OaWgjIWcPWYkfXsos9eMKIqmbSZmZojasjiYefvtt9u9XRAEaDQa9OnTB5dddhnUauvnpJBjJITxRJPcGvQGHD5vLJB3dPGvJDJQg4gAbxRW1OHw+XKMiO+6ud2bv2Siul6PIbFBSBvc9ti1tM10rqwGtQ16m+YgyaXQ1P1Xni0mAOjTYnq2LSMh5KaraURNgx4Aa2aI2mNxMLN8+XJcuHAB1dXVCA42bk2UlpbC19cX/v7+KCwsRGJiIrZs2YLY2FjZF0zyMTXOY82MbI7nV6Cu0YAAjYfp9XU0QRAwJDYIG48UID2nrMtgJrOgAp/vPgsA+Mc1A9p9Aw/180KgxgO62kZkF1VhQJRjuhp3pvkkk3xv7nGhvvBUC6iu1+N8eS16BiljSydPZzzJFOxr20BNIndl8Ubzq6++ipEjRyIzMxPFxcUoLi7GiRMnMHr0aLz11ls4e/YsIiMj8fjjj9tjvSSjhLDmLsCiKDp5Ne7B1F8mJggqJ/YpsWSC9qIfj8EgApMH9uhwRIEgCOgtTZa+oIzg19RjRsZgxlOtMgWhmQXK2WritGyizlkczDz33HNYvnw5evfubbqtT58+eOONNzB//nzExMTgtddewx9//CHrQkl+sSG+EASgsq4RRZU8ni0HZ/WXuZgUzBzo4kTTHyeLsPlYITxUAp6Z0r/TaxPDlFU3I2ePmZaa62aU8X0CPMlE1BWLg5m8vDw0Nja2ub2xsdHUATg6OhoVFcr5q4bap/FUI7rpLz1uNclDyoQ46ySTZFCMFoIA5JTUoLiyrt1rDBc1yJNOLHVEqptRSo2VqceMzNO7+yhwrAF7zBB1zuJgZsKECXjggQewf/9+02379+/H7NmzceWVVwIADh06hISEBPlWSXYjbTVxerbtqusbTUMKnXWSSRKo8TSdQOooO/PN/nM4kqdDgLcH5l7Vt91rWuot9ZpRTGZGvoZ5LZmOZyvoRJOp+y+nZRO1y+Jg5n//938REhKC4cOHw9vbG97e3hgxYgRCQkLwv//7vwAAf39/LF26VPbFkvwSONZANofP66A3iIgI8FbEX9DSkMv0nPI297VskDfnyj4IadEgryPNx7OrnF5jpTeIuFBh320m6USTEjAzQ9Q5i08zRUZGYuPGjTh27BhOnDgBAEhKSkJSUpLpmgkTJsi3QrKreGZmZGOalO3krIxkaKwWa/fltjvW4MM/spHXdFrn7nHxZj1er1BfqJpqrC5U1MlaeGup4so6GERAJQCh/vIGMwlhflAJQEVtIwor6mTP/FijuWaGBcBE7bG6aV7//v3Rv3/nBYOkfAlhvgAYzMih+SSTc4t/JUNaFAG37JlyoaIO/7PlJADgqclJZh/19fZQIzbEF2eKq5F1ocqpwYxU/Bse4C37dGtvDzXiQ/1wqqgKmQWVigpmmJkhap9VwUxubi6+/fZbnD17FvX1rU/BLFu2TJaFSc6dO4dnnnkGP/74I6qrq9GnTx989NFHGDFihKzP0101T0OuVlSTMFfk7DEGF+sfGQgvDxXKqhtwprjalIV7a9MJVNXrMainFtOHRFv0mIlhfk3BTCXG9g61x7LNYq96GUmfCH+cKqrCycIKjO8bZpfnMFdFbQMq6oyHLhjMELXP4mBm06ZNmD59OhITE3Hs2DGkpKTg9OnTEEURqampsi6utLQUl1xyCSZMmIAff/wR4eHhyMzMNDXrI9vFhvhCrRJQ06BHga6OvyytVFZdjzPF1QCcfyxb4uWhwsDoQOw/W4YDuWWID/PDycIKfLY7BwDw92sGWNwLp3e4P7Ycv+D0XjP2GGXQUu8IP+AIsPFIAZIiAzEqIUT2DJC5pMAtQOMBf2+rk+lEbs3iAuD58+dj3rx5OHToEDQaDdauXYucnBxcfvnluOmmm2Rd3JIlSxAbG4uPPvoIo0aNQkJCAiZNmtSqxw3ZxlOtQkywcR+eW03WO9C0xRQf6osg366LaR2luQi4DACw+Mdj0BtETBzQw6rMSvPASeeeaLJXjxkA2JCRh892GQO+P7KKMfODnRi/ZDM2ZOTJ/lzm4Ewmoq5ZHMwcPXoUd955JwDAw8MDNTU18Pf3x0svvYQlS5bIurhvv/0WI0aMwE033YSIiAgMGzYMH3zwgazPQRxrIIeDCiv+lQxrGjr5e+YFvPHTMfxytBAqAXh2qnX1bqZeM07OzBTaaZtpQ0YeZq/Zh7Kahla355fXYvaafU4JaNj9l6hrFgczfn5+pjqZqKgoZGVlme4rKiqSb2UATp06hZUrV6Jv37746aefMHv2bMydOxcff/xxh19TV1cHnU7X6oM6x+PZtpMyM0qpl5GUVxvflE8WVmHFFuO/VY2n2uqp0FIwk1NajdqmwYfOUGCHIZN6g4iF64+gvcPY0m0L1x+B3uDY49qmk0wKKEQmUiqLg5kxY8Zg27ZtAIBrrrkGTz75JF555RXce++9GDNmjKyLMxgMSE1Nxauvvophw4bhb3/7G+6//3689957HX7NokWLoNVqTR8cdtk1Ts+2jSiKpuJfpZxkAoxZhgXfHm5ze3W93uosQ7i/NwI0HhBFmGqEnEHaZpLzRNXu7BJTFqQ9IoxZkt3ZJbI9pznYY4aoaxYHM8uWLcPo0aMBAAsXLsRVV12FL774AvHx8aameXKJiopCcnJyq9sGDBiAs2fPdvg18+fPR3l5uekjJydH1jW5o3hmZmySr6vFhYo6qFUCBkYrI5jpLMsgsSbLIAhCc92MEzsBS6MMImUMZqTHlOs6uZi6/zKYIeqQRaXxer0eubm5GDx4MADjllNnWRJbXXLJJTh+/Hir206cOIG4uLgOv0bqSkzmS5COZ5dUw2AQnTrt2RVJTen69QiAj5d5PVvszZIsg6WFwL3D/HAgp8xpmbwGvcE0GFXOmhlzT0bZ6wRVR5iZIeqaRZkZtVqNSZMmobS01F7raeXxxx/Hzp078eqrr+LkyZP49NNP8f7772POnDkOef7uIjpIA0+1gPpGA843/RVI5pPqZYbGKiMrA9g3y9C7aXZRlpOmSktjDDzVAoJ9PWV73FEJIYjSatBRKC/AmB0ZlRAi23OaI4/df4m6ZPE2U0pKCk6dOmWPtbQxcuRIfPPNN/jss8+QkpKCl19+GW+++SZuv/12hzx/d+GhViE2xNgJ+HSR8+ogXNVBhTXLA+ybZUhs2pbMclJmRir+jQjQyNrkUa0SsCDNuK3d0aMuSEt2aL+Z6vpGlDedrGJmhqhjFgcz//znPzFv3jx89913yMvLs/vJoWuvvRaHDh1CbW0tjh49ivvvv1/256DmraZsHs+2iMEg4mCOdJJJOZkZe2YZWtbMOGMQoz17zExJicLKWaltAgdPtYCVs1IxJSVK9ufsjHSSyddLjUANG+YRdcTifx3XXHMNAGD69Omt/iqSWuHr9c47rknWk040ZTu5f4i96A0idmeXoLCiFhEBGtk6umYXV6GirhEaTxX69QiQYaXykLIMs9fsgwC0KgSWvmtrswxxob4QmgYxFlXWIzzAsTVq9h5lMCUlClcnR2J3dgkyCyrwwreH0aAXndJDqOVMJo4aIeqYxcHMli1b7LEOcjLTiSY3zMxsyMjDwvVHWhXERmk1WJCWbPNf2tIW08BoLTzVFic67UrKMlz8vUfa+L1rPNWIDfbF2RLjjCZ3C2YAYzA4tncoxvYOxbcHzmPPmVJsyMjHPZck2O0528Puv0TmsTiYufzyy+2xDnIyd22cJ3V0vXgzROroauvWwQEFbjG11DLLIGdWKjHcD2dLqnHqQhXGJDp24GRzjxnHBFFTB0Vhz5lS/HjI8cFMvk46gs7iX6LOWPWn5O+//45Zs2Zh3LhxOHfuHABg9erVpmZ65HqkzMzZkmo06g1OXo08HNHRVWqWN1RhYwxakrIM1w3tibG9Q2XZXksMc16vGekEVg8HHZGekhIJAPjzTIlpjIKj5LHHDJFZLA5m1q5di8mTJ8PHxwf79u1DXZ3xr6Ty8nK8+uqrsi+QHCMqUANvDxUaDSLOlbnH8Wx7d3StbzTg8Hlj0buSTjI5gjTWIMsJwYwjtpla6hnkg6GxQRBFYMPhfIc8pySfPWaIzGLVaab33nsPH3zwATw9m3s8XHLJJdi3b5+siyPHUakExIUaj2e7y/Rse3d0PVFQgfpGAwI1Hohveu26i96m6dmO/1mx52mmjkwbZNyK/OGQYwdNsmaGyDwWBzPHjx/HZZdd1uZ2rVaLsrIyOdZETuJudTP27uhqmscUG9TtTpr0lgZOllSjrtFxJxhrG/SmvityzmXqirTVtDu7xNS0zxGYmSEyj8XBTGRkJE6ePNnm9m3btiExMVGWRZFzSHUz7pKZ6arXCmBbR1dpjIFSi3/tKTzAG/7eHjCIwFkHDpwsbMrKaDxVDu27Ehvii8ExWhhE4CcHbTXVNuhRXGUc28Duv0SdsziYuf/++/Hoo49i165dEAQB58+fxyeffIJ58+Zh9uzZ9lgjOUhz4zz36ALcsqNrR1641vqOrgebxhgM6Wb1MoA0cNLxdTMFFc31Mo7Ohk1tOvX2oxXTxq0hBW5eHipZxzYQuSOLg5lnn30Wt912G6666ipUVlbisssuw1//+lc88MADeOSRR+yxRnIQd5yeLfVa8fdufwBkg5UnmarrG3GioAIAnNJMTQmkupksBzZaNBX/OnjYIwBcM8i41bTzVAmKK+2/1dTyJFN328YkspTFwYwgCPjHP/6BkpISZGRkYOfOnbhw4QJefvlle6yPHEiqmcktrUZ9o3sczwaMAY10dPqmETH47P4xePSqvgCABf/NQJEVb0wZ53QwiEBkoMZhp2qURprRdMqhwYxje8y0FBfqh4HRgdAbRGw8UmD352vuMdM9f76ILGFxMLNmzRpUV1fDy8sLycnJGDVqFPz9/e2xNnKwiABv+HqpYRCBnFL32GoCjKM2pC2hu8bGY2zvUMyZ0Af9IwNQWt2ABd8etvgxm4dLdr96GYlpRlOR47aZCh18LPti1zSdavreAaeaeJKJyHwWBzOPP/44IiIicNttt+GHH37gLCY3IggC4kLdb6vpdHE1dLWN8PJQISnSOD/Jy0OFN24aArVKwPcH87DBwjqI9Kbi3+66xQS06DVT6LiBk809ZhyfmQGAqU2nmrZnFaO0qTjXXppPMrH4l6grFgczeXl5+PzzzyEIAm6++WZERUVhzpw52L59uz3WRw6W6GYnmoDmU0cp0YGt5iel9NTiwcuNJ/CeW3fYojen7lz8K0kI84MgALraRtOpG3tr7jHjnGxFYrg/+kcGGLeajtp3q4ndf4nMZ3Ew4+HhgWuvvRaffPIJCgsLsXz5cpw+fRoTJkxA79697bFGcqD4MPdqnAd0nkWZe1Vf9InwR1FlHV767ohZj1dSVY+zJcZtuEHdeJtJ46lGzyBj1sBRdTPSaSZrewPJQdpq+tHOW03sMUNkPpvG/Pr6+mLy5MmYOnUq+vbti9OnT8u0LHKW+FD3m54t1be0l0Xx9lDj9RsHQyUA3+w/h01m/LUtPV5CmB+0Pt37yKypbsZBx7MLndD992LSqaZtJ4tMDfzsgTUzROazKpiprq7GJ598gmuuuQY9e/bEm2++ieuvvx6HD1teSEnK0twF2D0KgBv0BmQ0zU/qqL5lWK9g/PVS43bT37851OUbVPMWU/fNykh6O7DXTGVdIyrrGgE4b5sJAPpEBKBvhD8a9CJ+sdOppga9AReaTtkxM0PUNYuDmVtvvRURERF4/PHHkZiYiF9//RUnT57Eyy+/jP79+9tjjeRAUq+Z8+U1qG1w/eLu4/nmzU964up+SAjzQ4GuDq9+f7TTx2zu/Bsk40pdU3Nmxv6ZPOkkU4C3B/y8Hdf9tz2mrSY7NNDTG0RsyMiHKAIqAQj28ZL9OYjcjcXBjFqtxpdffom8vDysWLECY8eONd2XkZEh6+LI8UL9vBDg7QFRhKkuxJW1rJfprPGYxlON124cDEEAvtiTg60nLrR7nSiKOCBlZrrxSSZJb6nXjANqrJzZY+ZiUjCz9UQRKmrl22rakJGH8Us245HP9gMADCJw2etbLD5tR9TdWBzMSNtLarWxo2pFRQXef/99jBo1CkOGDJF9geRYgiAgIdx9TjRJWZShZgQeI+NDcNfYeADA/K8PmbY0WjpfXouiyjp4qAQMjA6UcaWuScrMnC2xf6PFwgrn9phpqV8PfySG+6Feb8Cmo4WyPOaGjDzMXrPPVCsjyS+vxew1+xjQEHXC6gLgrVu34q677kJUVBTeeOMNXHnlldi5c6ecayMniXejXjMHOin+bc9Tk5MQG+KDc2U1WPLjsTb3H2wKjvr1CIDGs/0RCd1Jj0Bv+HmpoTeIOFti35+XAic3zGtJEARc0zSr6QcZTjXpDSIWrj+C9rr1SLctXH8EeivHbxC5O4uCmfz8fCxevBh9+/bFTTfdhMDAQNTV1WHdunVYvHgxRo4caa91kgO5y/TsyrpGZBYaC1MHx5pXrOvn7YHFNwwGAKzeeQY7sopb3c8tptaMAycdM6NJSdtMQPNW068nLrSbxbPE7uySNhmZlkQYTzftzi6x6XmI3JXZwUxaWhqSkpJw8OBBvPnmmzh//jzeeecde66NnCTBTXrNHMothygCPYN8LOpLckmfMMwc1QsA8Mzag6iub36jkrateJKpmdQJ2N5FwM4cMtmeAVEBiA/1RX2jAVuO2bbVJG2hyXUdUXdjdjDz448/4r777sPChQsxbdo0U80MuR936TVj2mIyMyvT0t+v6Y8orQZnS6rxxk8nAAAGg4iMc8zMXCwxzDG9ZpS0zQQYs1JTZTrVZG6w7cxmgURKZnYws23bNlRUVGD48OEYPXo0VqxYgaKiInuujZxE6jVToKtrlZVwNc1ZlCCLvzZA44lFNwwCAHy0PRu7s4vx9f5zqKhrhKdaMI19IKB3hGN6zRQooGHexaS6mc3HCm36tzIqIaTT6dgCjM3zRiWEWP0cRO7M7GBmzJgx+OCDD5CXl4cHHngAn3/+OaKjo2EwGLBx40ZUVFTYc53kQEG+XgjyNXa2deXmeQdsHAZ5RVIEbhweA1EEZn6wC/O+OgAAaNCLuOKNX3m6pIkpM2PHbUlRFBWXmQGAlJ6BiA3xQW2DAb8eb/84vznUKgGpvYLavU9qKLAgLRlqVcftBYi6M4tPM/n5+eHee+/Ftm3bcOjQITz55JNYvHgxIiIiMH36dHuskZzA1AnYRbeaCitqcb68FioBGNTT+vqWsYmhANDmFAmPyzaTflbKqhtQYqeBk7qaRtQ1Hf0OD1BOZkauU03bMovw4+F8AEDQRSMyIrUarJyViilNz0NEbdk0mykpKQmvvfYacnNz8dlnn8m1JlKAhFDXPtF0MMdY29Inwt/qbrF6g4g3fj7e7n08LtvMx6vlwEn7bDVJAyaDfD0VdyReqpvZfKzQqq7ZhbpaPPbFfmMGcFQs9j5/NT67fwzeunUoPrt/DLY9cyUDGaIu2BTMSNRqNWbMmIFvv/1WjocjBXD149mW9pdpD4/Lmi/RzjOalHaSqaUhMVr0DPJBdb3e4q0mvUHE3M/3o6iyHv0jA7AgbSDUKgFje4fiuqE9MbZ3KLeWiMwgSzBD7ic+zLUb56XbWC8D8LisJXrbeUaT0nrMtCQIAqamGCdpW3qq6a1Nmdh5qgS+Xmq8e3uq4rJORK6CwQy1K8GFj2eLomjRGIOO8Lis+ZozM/YKZpRX/NuStNW06aj5W01/nCzCO5szAQCvXj/IFBASkeUYzFC74psa5xVV1ss6SM8RThdXQ1fbCC8PFZIiA6x+nFEJIYjSatBRkp/HZZs1n2iyzzZToSmYUV5mBgCGxQYhMlCDyrpGbMvsumVFYUUtHv08HaII3DoyFjOG9XTAKoncF4MZaleAxhNh/l4AXO94tpSVSYkOhKfa+h9xtUrAgrRkAGgT0PC4bGtSr5mzxdVo0Ms/cLK5x4wyMzMqlYApTVtNXZ1q0htEPPpZOooq69A/MgAvTh/oiCUSuTUGM9Qh6chttottNclRLyOZkhKFlbNSEalt/SbK47KtRQZq4OulRqNBxNkS+YNf6TSTkrf0pg02/ixsPFqAusaOt5re2ZyJHaeK4eulxorbWCdDJAfrzqxStxAf6oc/T5ci284zd+QmnWSypV6mpSkpUbg6ORK7s0tQWFGLiADj1hIzMs0EQUBCmB8On9fh1IUq2es/ChXY/fdiw3sFIyLAG4UVddh+shgT+ke0uWb7ySK8tclYJ/PK9SnoE8E6GSI5MDNDHYp3wcZ59Y0GHD6vA2DbseyL8bhs13qbpmfLWzdjMIimE2NK3WYCut5qKqyoxdymOplbRsTi+mExjl4ikdtiMEMdSnDBXjPH8ytQ32iA1scTcaG+zl5Ot9I8PVveYKa0uh4NemNjQiV1/23P1KZtx5+PFLSqHdIbRDz+hbFOJqkH62SI5OZSwczixYshCAIee+wxZy+lW3DF6dnppknZQRAEZk8cKdFOvWak4t8wfy+bCrodYVRCCML8vVBe04DtWcWm21dsPok/ThbDx1ONd28fBh8v1skQycllamb+/PNP/Otf/8LgwYOdvZRuQzqeXVbdgLLqegT5ejl5RV07KPWXibF+HhNZR5okLvfAyQIX2GKSqFUCJg+MxCe7zmLVH9koq67HhYo6vPnLCQDAP2ekoE+E9e0CiKh9yv4zp0llZSVuv/12fPDBBwgODnb2croNXy8PRDa9gbjKVtOBFpkZcixpm6mkqh6lMg6cLFR4w7yLhfsbt8K2HL+ARz9Pxz+/PwoRwLjeofjLcNbJENmDSwQzc+bMwbRp0zBx4sQur62rq4NOp2v1QdaTsjOusNVUWdeIzEJjvcZgGYt/yTy+Xh6IbjrCLmfzvAIXOMkk2ZCRZzqtdLEdWcWcsk5kJ4oPZj7//HPs27cPixYtMuv6RYsWQavVmj5iY2PtvEL3ZioCdoHj2YdyyyGKQM8gH8UXirqrRNOJJvl+XqRRBkruMQMYi3wXrj+Czmaoc8o6kX0oOpjJycnBo48+ik8++QQajXm/yObPn4/y8nLTR05Ojp1X6d6kIuDsYuV3AW7eYmK9jLM0n2iSM5hRdvdfCaesEzmPoguA9+7di8LCQqSmpppu0+v12Lp1K1asWIG6ujqo1a1PBXh7e8Pbm3+Vy8WVpmdLYwzk7C9DlrFHr5nmHjPK/nfNKetEzqPoYOaqq67CoUOHWt12zz33oH///njmmWfaBDIkv4QWwYwoioo+7nxAxjEGZB179JpR+sRsCaesEzmPooOZgIAApKSktLrNz88PoaGhbW4n++gV4gtBACrqGlFcVY8wf2X+dVyoq8X58lqoBGBQT24zOYtUM3O2pBqNegM8bOwLozeIuFBh3GaKUHhmRpqynl9e227djADjTC9OWSeSn6JrZsj5NJ5qRGt9ACh7q+lAbjkAoG9EAPy8FR2ju7WoQA00nio06EXklNbY/HjFlXUwiMb+LaF+yg5mOGWdyHlcLpj59ddf8eabbzp7Gd1Kgp2aocmpeYuJWRlnUqkEJIY11c0U2r7VlN+0xRTu7+0SQQCnrBM5B/+EpS7Fh/li20mlZ2bKALBeRgkSw/1wJE/X1Gumh9WPozeI2HriAgDAz0sNvUF0mYCGU9aJHIvBDHVJ6TOaRFHkSSYFkWNG04aMPCxcf8R01DmrqArjl2zGgrRkl8huSFPWicgxXG6biRyveXq2MnvNnC6uhq62Ed4eKiRFcu6Ns/W2sdfMhow8zF6zr03PlvzyWsxes49ddImoDQYz1CWp18yZYuPxbKWRsjIpPbWKn6rcHdjSa6azLrrSbeyiS0QX429+6lJssC/UKgHV9XoUNh2TVZJ0bjEpipTJK66qR3l1g0Vfyy66RGQNBjPUJS8PFWKCjcezlTg9m2MMlMXPu3naepaFAyfZRZeIrMFghsximtGksGCmvtGAw+eNk9GZmVGO3hHW1c2wiy4RWYPBDJklQaEzmo7nV6C+0QCtjyfiQn2dvRxqYuo1Y2HdzKiEEIT6eXV4vwAgil10iegiDGbILPFNgYLSMjPpLfrLKHluVHdj7YymY/k6VNU3tnsfu+gSUUcYzJBZTNOzFdZrRjrJNDSG9TJKYk2vmeyiKtz14W7UNhjQJ9wfkRfNYmIXXSLqCJvmkVkSTMezq2EwiFAp5C9jTspWJqnXzJli8wZO5pXXYNa/d6Gosh7JUYH4/IEx8PPyYBddIjILgxkyS88gH3iqBdQ1GpCnq0XPIB9nLwmVdY042bSNMZjFv4oSrfWBxlOF2gYDcktrTJm99pRU1eOO/92Nc2U1SAzzw3/uG4VAjScAsIsuEZmF20xkFg+1CrEhxroZpRQBH8othygaA63wAGVPVO5uVCrBdALuVCfHsytqG3D3R7txsrASUVoN/nPfKIT58/8lEVmGwQyZLSFUWdOzpf4yQ7nFpEi9u6ibqW3Q4/7/7MHB3HKE+Hlh9X2jERPME2lEZDkGM2S2eIUdz26ul2HxrxJJdTNZ7QQzjXoDHv50P3aeKoG/twc+vmcU+kT4O3qJROQmGMyQ2RQbzLBeRpESO5jRZDCIeHrtQfxytABeHip8cOcIDOJpNCKyAYMZMpu0zZStgOPZhbpanC+vhUowDpgk5UlsZ3q2KIp46bsj+HrfOahVAt69LZVFvkRkM55mIrMlNL055ZSYd9zWng7klgMA+kYEwM+bP8ZKJB3nL6qsw+d/nkVciB92nCrCqu2nAQBv3DQYVyf3cOIKichd8F2AzBYVqIGXWkC9XsR/dpzBgKhAp/X+YL2M8v1xsggqATCIwLNrD7W678W0ZFw/LMZJKyMid8Nghsz285F8GETjf7/03REAxjk5C9KSHd6V9UCLMQakPBsy8jB7zT6IHdwfqeWgSCKSD2tmyCzSm1OjofXbU355LWav2YcNGXkOW4vBILL4V8H0BhEL1x/pMJARACxcfwR6Q0dXEBFZhsEMdamzNyfpNke+OZ0uroKuthHeHiokRQY45DnJfLuzS5BXXtvh/SKAvPJa7M4ucdyiiMitMZihLintzUnaYkrpqYWnE4uQqX2FFR3/rFhzHRFRV/hOQF1S2pvTgRzjSSZuMSlTRIB59TDmXkdE1BUGM9Qlpb05NRf/8iSTEo1KCEGUVoOOzrgJMBaOj0oIceSyiMiNMZihLinpzam+0YDD53UAOJNJqdQqAQvSkgGgzc+M9PmCtGSnHOknIvfEYIa61Nmbk8QRb056g4j/25OD+kYD/LzV6BnkY9fnI+tNSYnCylmpbY5gR2o1WDkr1eFH+YnIvQmiKLr1+UidTgetVovy8nIEBgY6ezkubUNGHhauP9KmGPjRq/ri8av7Ofy5ndXjhsynN4jYnV2CwopaRARonNZkkYhcjyXv3wxmyCIt35x+OJSHnw4XIKVnIL6dMx4qO71JddSATXo2/qVPROR+LHn/5jYTWUStEjC2dyiuG9oTr14/CP7eHsg4p8P6g+ft8nxK63FDRETKw2CGrBbq740HLksEALzx83HUNeplfw6l9bghIiLlYTBDNrnv0gREBHgjp6QGn+w8K/vjK63HDRERKQ+DGbKJr5cHHptoLP59Z3MmdLUNsj6+0nrcEBGR8jCYIZvdPCIGieF+KK1uwPu/nZL1sUclhCDM36vD+9mAjYiIGMyQzTzUKjw9uT8A4N/bTqFAJ9+WT22DvsOjvGzARkREAIMZksnkgT0wPC4YtQ0GvPlLpiyPKYoinluXgQJdHYJ8PBER4N3qfjZgIyIiAPBw9gK6smjRInz99dc4duwYfHx8MG7cOCxZsgRJSUnOXhq1IAgCnp3aHze9twNf7snBfeMT0CfC36bH/OLPHHyz/xzUKgEf3DUCqb2C2YCNiIjaUHxm5rfffsOcOXOwc+dObNy4EQ0NDZg0aRKqqqqcvTS6yMj4EEwc0AN6g4jXNhyz6bGO5umw4NvDAIB5k5IwMj6kVY+bsb1DGcgQEREAF8jMbNiwodXnq1atQkREBPbu3YvLLrvMSauijjwzJQmbjxXg5yMF2HO6BCPiLS/MraxrxJxP9qGu0YAJSeGmXjZERETtUXxm5mLl5eUAgJCQ9t8k6+rqoNPpWn2Q4/TtEYCbR8QCABb/eAyWTssQRRF///oQThVVIUqrwdKbh9ptTAIREbkHlwpmDAYDHnvsMVxyySVISUlp95pFixZBq9WaPmJjYx28SnpsYj9oPFXYc6YUG48UWPS1n+3OwbcHzkOtErDitmEI8ev4WDYRERHgYsHMnDlzkJGRgc8//7zDa+bPn4/y8nLTR05OjgNXSIDxlNG9lyQAAJZsOIZGvcGsrzt8vhwvrjfWyTw9OQnD49g7hoiIuuYywczDDz+M7777Dlu2bEFMTEyH13l7eyMwMLDVBzneg1f0RrCvJ7IuVOH/9uZ2eX1FbQMe/nQ/6hsNuKp/BO6/lHUyRERkHsUHM6Io4uGHH8Y333yDzZs3IyEhwdlLIjMEajzx8JV9AQDLfzmBmvqOh1CKooj5Xx9CdlEVorUavHHTENbJEBGR2RQfzMyZMwdr1qzBp59+ioCAAOTn5yM/Px81NTXOXhp1YdaYXogJ9kGBrg4f/pHd4XVrdp3Fdwfz4KES8M5tqQhmnQwREVlA8cHMypUrUV5ejiuuuAJRUVGmjy+++MLZS6MueHuoMW+Ssbnhe79moaSqvs01GefK8fL6IwCAZ6b0x/C4YIeukYiIXJ/igxlRFNv9uPvuu529NDLD9CHRGBgdiIq6RqzYfLLVfbraBsz5dB/q9QZMHNADf72UW4hERGQ5xTfNI9emUhnHHNzxv7vxnx3ZGBqrhQggIsAbq3ecwZniavQM8sEbNw2GILBOhoiILMdghuzu0r7hGBAVgKN5FZj7eXqr+9QqYMVtwxDkyzoZIiKyjuK3mcj1bcjIw9G8inbv0xuAAl2tg1dERETuhMEM2ZXeIGJhU4FvewQAC9cfgd5g2dgDIiIiCYMZsqvd2SXIK+848yICyCuvxe7sEsctioiI3AqDGbKrwgrztpDMvY6IiOhiDGbIriICNLJeR0REdDEGM2RXoxJCEKXVoKND1wKAKK0GoxI4VJKIiKzDYIbsSq0SsCAtGQDaBDTS5wvSkqHmLCYiIrISgxmyuykpUVg5KxWR2tZbSZFaDVbOSsWUlCgnrYyIiNwBm+aRQ0xJicLVyZHYnV2CwopaRAQYt5aYkSEiIlsxmCGHUasEjO0d6uxlEBGRm+E2ExEREbk0BjNERETk0hjMEBERkUtjMENEREQujcEMERERuTQGM0REROTSGMwQERGRS2MwQ0RERC6NwQwRERG5NLfvACyKIgBAp9M5eSVERERkLul9W3of74zbBzMVFRUAgNjYWCevhIiIiCxVUVEBrVbb6TWCaE7I48IMBgPOnz+PgIAACIJyhhrqdDrExsYiJycHgYGBzl6Oy+DrZh2+bpbja2Ydvm7W4evWliiKqKioQHR0NFSqzqti3D4zo1KpEBMT4+xldCgwMJA/uFbg62Ydvm6W42tmHb5u1uHr1lpXGRkJC4CJiIjIpTGYISIiIpfGYMZJvL29sWDBAnh7ezt7KS6Fr5t1+LpZjq+Zdfi6WYevm23cvgCYiIiI3BszM0REROTSGMwQERGRS2MwQ0RERC6NwQwRERG5NAYzNti6dSvS0tIQHR0NQRCwbt26VvcXFBTg7rvvRnR0NHx9fTFlyhRkZma2uiYrKwvXX389wsPDERgYiJtvvhkFBQWtromPj4cgCK0+Fi9ebO9vzy4WLVqEkSNHIiAgABEREZgxYwaOHz/e6pra2lrMmTMHoaGh8Pf3x1/+8pc2r8nZs2cxbdo0+Pr6IiIiAk899RQaGxtbXfPrr78iNTUV3t7e6NOnD1atWmXvb89uHPW6/frrr21+1gRBQH5+vkO+T7nJ9brNnTsXw4cPh7e3N4YOHdrucx08eBCXXnopNBoNYmNj8dprr9nr27I7R71up0+fbvfnbefOnfb89uxCjtfswIEDmDlzJmJjY+Hj44MBAwbgrbfeavNc7vS7TS4MZmxQVVWFIUOG4N13321znyiKmDFjBk6dOoX//ve/2L9/P+Li4jBx4kRUVVWZvn7SpEkQBAGbN2/GH3/8gfr6eqSlpcFgMLR6vJdeegl5eXmmj0ceecQh36PcfvvtN8yZMwc7d+7Exo0b0dDQgEmTJpleEwB4/PHHsX79enz11Vf47bffcP78edxwww2m+/V6PaZNm4b6+nps374dH3/8MVatWoUXXnjBdE12djamTZuGCRMmID09HY899hj++te/4qeffnLo9ysXR71ukuPHj7f6eYuIiHDI9yk3OV43yb333otbbrml3efR6XSYNGkS4uLisHfvXrz++ut48cUX8f7779vte7MnR71ukl9++aXVz9vw4cNl/57sTY7XbO/evYiIiMCaNWtw+PBh/OMf/8D8+fOxYsUK0zXu9rtNNiLJAoD4zTffmD4/fvy4CEDMyMgw3abX68Xw8HDxgw8+EEVRFH/66SdRpVKJ5eXlpmvKyspEQRDEjRs3mm6Li4sTly9fbvfvwRkKCwtFAOJvv/0miqLx+/f09BS/+uor0zVHjx4VAYg7duwQRVEUf/jhB1GlUon5+fmma1auXCkGBgaKdXV1oiiK4tNPPy0OHDiw1XPdcsst4uTJk+39LTmEvV63LVu2iADE0tJSx30zDmTN69bSggULxCFDhrS5/X/+53/E4OBg0+soiqL4zDPPiElJSfJ/E05gr9ctOztbBCDu37/fXkt3GltfM8lDDz0kTpgwwfS5u/9usxYzM3ZSV1cHANBoNKbbVCoVvL29sW3bNtM1giC0apKk0WigUqlM10gWL16M0NBQDBs2DK+//nqbLRVXVV5eDgAICQkBYPzLpKGhARMnTjRd079/f/Tq1Qs7duwAAOzYsQODBg1Cjx49TNdMnjwZOp0Ohw8fNl3T8jGka6THcHX2et0kQ4cORVRUFK6++mr88ccf9v52HMaa180cO3bswGWXXQYvLy/TbZMnT8bx48dRWloq0+qdx16vm2T69OmIiIjA+PHj8e2338qzaCeT6zUrLy83PQbg/r/brMVgxk6kH9L58+ejtLQU9fX1WLJkCXJzc5GXlwcAGDNmDPz8/PDMM8+guroaVVVVmDdvHvR6vekawLjv/Pnnn2PLli144IEH8Oqrr+Lpp5921rcmG4PBgMceewyXXHIJUlJSAAD5+fnw8vJCUFBQq2t79OhhqtvIz89v9YYs3S/d19k1Op0ONTU19vh2HMaer1tUVBTee+89rF27FmvXrkVsbCyuuOIK7Nu3z87flf1Z+7qZw5zX1lXZ83Xz9/fH0qVL8dVXX+H777/H+PHjMWPGDJcPaOR6zbZv344vvvgCf/vb30y3ufPvNlu4/dRsZ/H09MTXX3+N++67DyEhIVCr1Zg4cSKmTp0Ksanpcnh4OL766ivMnj0bb7/9NlQqFWbOnInU1NRW486feOIJ038PHjwYXl5eeOCBB7Bo0SKXbn09Z84cZGRktMlCUefs+bolJSUhKSnJ9Pm4ceOQlZWF5cuXY/Xq1bI/nyPx58069nzdwsLCWv1+GzlyJM6fP4/XX38d06dPl/35HEWO1ywjIwPXXXcdFixYgEmTJsm4OvfEzIwdDR8+HOnp6SgrK0NeXh42bNiA4uJiJCYmmq6ZNGkSsrKyUFhYiKKiIqxevRrnzp1rdc3FRo8ejcbGRpw+fdoB34V9PPzww/juu++wZcsWxMTEmG6PjIxEfX09ysrKWl1fUFCAyMhI0zUXn5qQPu/qmsDAQPj4+Mj97TiMvV+39owaNQonT56U6TtwDlteN3NY+9oqnb1ft/aMHj3apX/e5HjNjhw5gquuugp/+9vf8Nxzz7W6z11/t9mKwYwDaLVahIeHIzMzE3v27MF1113X5pqwsDAEBQVh8+bNKCws7PSvkvT0dKhUKpc8YSKKIh5++GF888032Lx5MxISElrdP3z4cHh6emLTpk2m244fP46zZ89i7NixAICxY8fi0KFDKCwsNF2zceNGBAYGIjk52XRNy8eQrpEew9U46nVrT3p6OqKiomT+jhxDjtfNHGPHjsXWrVvR0NBgum3jxo1ISkpCcHCw7d+IgznqdWuPq/68yfWaHT58GBMmTMBdd92FV155pc3zuNvvNtk4s/rY1VVUVIj79+8X9+/fLwIQly1bJu7fv188c+aMKIqi+OWXX4pbtmwRs7KyxHXr1olxcXHiDTfc0OoxPvzwQ3HHjh3iyZMnxdWrV4shISHiE088Ybp/+/bt4vLly8X09HQxKytLXLNmjRgeHi7eeeedDv1e5TJ79mxRq9WKv/76q5iXl2f6qK6uNl3z4IMPir169RI3b94s7tmzRxw7dqw4duxY0/2NjY1iSkqKOGnSJDE9PV3csGGDGB4eLs6fP990zalTp0RfX1/xqaeeEo8ePSq+++67olqtFjds2ODQ71cujnrdli9fLq5bt07MzMwUDx06JD766KOiSqUSf/nlF4d+v3KR43UTRVHMzMwU9+/fLz7wwANiv379TP/updNLZWVlYo8ePcQ77rhDzMjIED///HPR19dX/Ne//uXQ71cujnrdVq1aJX766afi0aNHxaNHj4qvvPKKqFKpxA8//NCh368c5HjNDh06JIaHh4uzZs1q9RiFhYWma9ztd5tcGMzYQDrGevHHXXfdJYqiKL711ltiTEyM6OnpKfbq1Ut87rnnWh3dFEXj8c0ePXqInp6eYt++fcWlS5eKBoPBdP/evXvF0aNHi1qtVtRoNOKAAQPEV199VaytrXXktyqb9l4vAOJHH31kuqampkZ86KGHxODgYNHX11e8/vrrxby8vFaPc/r0aXHq1Kmij4+PGBYWJj755JNiQ0NDq2u2bNkiDh06VPTy8hITExNbPYercdTrtmTJErF3796iRqMRQ0JCxCuuuELcvHmzo75N2cn1ul1++eXtPk52drbpmgMHDojjx48Xvb29xZ49e4qLFy920HcpP0e9bqtWrRIHDBgg+vr6ioGBgeKoUaNaHV12JXK8ZgsWLGj3MeLi4lo9lzv9bpOLIIpN1ahERERELog1M0REROTSGMwQERGRS2MwQ0RERC6NwQwRERG5NAYzRERE5NIYzBAREZFLYzBDRERELo3BDBEREbk0BjNE5HSiKGLixImYPHlym/v+53/+B0FBQcjNzXXCyojIFTCYISKnEwQBH330EXbt2oV//etfptuzs7Px9NNP45133mk1gVgOLYdCEpFrYzBDRIoQGxuLt956C/PmzUN2djZEUcR9992HSZMmYdiwYZg6dSr8/f3Ro0cP3HHHHSgqKjJ97YYNGzB+/HgEBQUhNDQU1157LbKyskz3nz59GoIg4IsvvsDll18OjUaDTz75xBnfJhHZAWczEZGizJgxA+Xl5bjhhhvw8ssv4/Dhwxg4cCD++te/4s4770RNTQ2eeeYZNDY2YvPmzQCAtWvXQhAEDB48GJWVlXjhhRdw+vRppKenQ6VS4fTp00hISEB8fDyWLl2KYcOGQaPRICoqysnfLRHJgcEMESlKYWEhBg4ciJKSEqxduxYZGRn4/fff8dNPP5muyc3NRWxsLI4fP45+/fq1eYyioiKEh4fj0KFDSElJMQUzb775Jh599FFHfjtE5ADcZiIiRYmIiMADDzyAAQMGYMaMGThw4AC2bNkCf39/00f//v0BwLSVlJmZiZkzZyIxMRGBgYGIj48HAJw9e7bVY48YMcKh3wsROYaHsxdARHQxDw8PeHgYfz1VVlYiLS0NS5YsaXOdtE2UlpaGuLg4fPDBB4iOjobBYEBKSgrq6+tbXe/n52f/xRORwzGYISJFS01Nxdq1axEfH28KcFoqLi7G8ePH8cEHH+DSSy8FAGzbts3RyyQiJ+I2ExEp2pw5c1BSUoKZM2fizz//RFZWFn766Sfcc8890Ov1CA4ORmhoKN5//32cPHkSmzdvxhNPPOHsZRORAzGYISJFi46Oxh9//AG9Xo9JkyZh0KBBeOyxxxAUFASVSgWVSoXPP/8ce/fuRUpKCh5//HG8/vrrzl42ETkQTzMRERGRS2NmhoiIiFwagxkiIiJyaQxmiIiIyKUxmCEiIiKXxmCGiIiIXBqDGSIiInJpDGaIiIjIpTGYISIiIpfGYIaIiIhcGoMZIiIicmkMZoiIiMilMZghIiIil/b/uMicxbyIQ34AAAAASUVORK5CYII=",
          "text/plain": "<Figure size 640x480 with 1 Axes>"
         },
         "metadata": {},
         "output_type": "display_data"
        }
       ]
      }
     },
     "2539e2495c56411bb5833a864f7a68fc": {
      "model_module": "@jupyter-widgets/controls",
      "model_module_version": "1.5.0",
      "model_name": "DescriptionStyleModel",
      "state": {
       "_model_module": "@jupyter-widgets/controls",
       "_model_module_version": "1.5.0",
       "_model_name": "DescriptionStyleModel",
       "_view_count": null,
       "_view_module": "@jupyter-widgets/base",
       "_view_module_version": "1.2.0",
       "_view_name": "StyleView",
       "description_width": ""
      }
     },
     "38dbee9111cb40b09a5c6bc2f30098ac": {
      "model_module": "@jupyter-widgets/base",
      "model_module_version": "1.2.0",
      "model_name": "LayoutModel",
      "state": {
       "_model_module": "@jupyter-widgets/base",
       "_model_module_version": "1.2.0",
       "_model_name": "LayoutModel",
       "_view_count": null,
       "_view_module": "@jupyter-widgets/base",
       "_view_module_version": "1.2.0",
       "_view_name": "LayoutView",
       "align_content": null,
       "align_items": null,
       "align_self": null,
       "border": null,
       "bottom": null,
       "display": null,
       "flex": null,
       "flex_flow": null,
       "grid_area": null,
       "grid_auto_columns": null,
       "grid_auto_flow": null,
       "grid_auto_rows": null,
       "grid_column": null,
       "grid_gap": null,
       "grid_row": null,
       "grid_template_areas": null,
       "grid_template_columns": null,
       "grid_template_rows": null,
       "height": null,
       "justify_content": null,
       "justify_items": null,
       "left": null,
       "margin": null,
       "max_height": null,
       "max_width": null,
       "min_height": null,
       "min_width": null,
       "object_fit": null,
       "object_position": null,
       "order": null,
       "overflow": null,
       "overflow_x": null,
       "overflow_y": null,
       "padding": null,
       "right": null,
       "top": null,
       "visibility": null,
       "width": null
      }
     },
     "70d9fa407e9a4dc9b45605766cd176b7": {
      "model_module": "@jupyter-widgets/controls",
      "model_module_version": "1.5.0",
      "model_name": "DropdownModel",
      "state": {
       "_dom_classes": [],
       "_model_module": "@jupyter-widgets/controls",
       "_model_module_version": "1.5.0",
       "_model_name": "DropdownModel",
       "_options_labels": [
        "mclaren",
        "bmw_sauber",
        "williams",
        "renault",
        "toro_rosso",
        "ferrari",
        "toyota",
        "super_aguri",
        "red_bull",
        "force_india",
        "honda",
        "spyker",
        "mf1",
        "spyker_mf1",
        "sauber",
        "bar",
        "jordan",
        "minardi",
        "jaguar",
        "prost",
        "arrows",
        "benetton",
        "brawn",
        "stewart",
        "tyrrell",
        "ligier",
        "forti",
        "footwork",
        "pacific",
        "simtek",
        "team_lotus",
        "larrousse",
        "alfa",
        "aston_martin",
        "mercedes",
        "hrt",
        "virgin",
        "lotus_racing",
        "marussia",
        "caterham",
        "lotus_f1",
        "manor",
        "haas",
        "racing_point",
        "alphatauri",
        "alpine"
       ],
       "_view_count": null,
       "_view_module": "@jupyter-widgets/controls",
       "_view_module_version": "1.5.0",
       "_view_name": "DropdownView",
       "description": "Constructor:",
       "description_tooltip": null,
       "disabled": false,
       "index": 0,
       "layout": "IPY_MODEL_869ee8e45c4e44b0af20aedb15bdd2d7",
       "style": "IPY_MODEL_b366aed3a514463c82e1930cdb8afb79"
      }
     },
     "7df56fb6fa414e0c89c0b4ca0feafe45": {
      "model_module": "@jupyter-widgets/controls",
      "model_module_version": "1.5.0",
      "model_name": "DropdownModel",
      "state": {
       "_dom_classes": [],
       "_model_module": "@jupyter-widgets/controls",
       "_model_module_version": "1.5.0",
       "_model_name": "DropdownModel",
       "_options_labels": [
        "albert_park",
        "sepang",
        "bahrain",
        "catalunya",
        "istanbul",
        "monaco",
        "villeneuve",
        "magny_cours",
        "silverstone",
        "hockenheimring",
        "hungaroring",
        "valencia",
        "spa",
        "monza",
        "marina_bay",
        "fuji",
        "shanghai",
        "interlagos",
        "indianapolis",
        "nurburgring",
        "imola",
        "suzuka",
        "yas_marina",
        "galvez",
        "jerez",
        "estoril",
        "okayama",
        "adelaide",
        "rodriguez",
        "ricard",
        "yeongam",
        "zandvoort",
        "buddh",
        "americas",
        "red_bull_ring",
        "sochi",
        "baku",
        "portimao",
        "mugello",
        "jeddah",
        "losail",
        "miami"
       ],
       "_view_count": null,
       "_view_module": "@jupyter-widgets/controls",
       "_view_module_version": "1.5.0",
       "_view_name": "DropdownView",
       "description": "Circuit:",
       "description_tooltip": null,
       "disabled": false,
       "index": 0,
       "layout": "IPY_MODEL_f7b4824be2264345889fa949ee800558",
       "style": "IPY_MODEL_2539e2495c56411bb5833a864f7a68fc"
      }
     },
     "869ee8e45c4e44b0af20aedb15bdd2d7": {
      "model_module": "@jupyter-widgets/base",
      "model_module_version": "1.2.0",
      "model_name": "LayoutModel",
      "state": {
       "_model_module": "@jupyter-widgets/base",
       "_model_module_version": "1.2.0",
       "_model_name": "LayoutModel",
       "_view_count": null,
       "_view_module": "@jupyter-widgets/base",
       "_view_module_version": "1.2.0",
       "_view_name": "LayoutView",
       "align_content": null,
       "align_items": null,
       "align_self": null,
       "border": null,
       "bottom": null,
       "display": null,
       "flex": null,
       "flex_flow": null,
       "grid_area": null,
       "grid_auto_columns": null,
       "grid_auto_flow": null,
       "grid_auto_rows": null,
       "grid_column": null,
       "grid_gap": null,
       "grid_row": null,
       "grid_template_areas": null,
       "grid_template_columns": null,
       "grid_template_rows": null,
       "height": null,
       "justify_content": null,
       "justify_items": null,
       "left": null,
       "margin": null,
       "max_height": null,
       "max_width": null,
       "min_height": null,
       "min_width": null,
       "object_fit": null,
       "object_position": null,
       "order": null,
       "overflow": null,
       "overflow_x": null,
       "overflow_y": null,
       "padding": null,
       "right": null,
       "top": null,
       "visibility": null,
       "width": null
      }
     },
     "8c6f4e06032145ed8e391ac21ac96bb2": {
      "model_module": "@jupyter-widgets/controls",
      "model_module_version": "1.5.0",
      "model_name": "VBoxModel",
      "state": {
       "_dom_classes": [
        "widget-interact"
       ],
       "_model_module": "@jupyter-widgets/controls",
       "_model_module_version": "1.5.0",
       "_model_name": "VBoxModel",
       "_view_count": null,
       "_view_module": "@jupyter-widgets/controls",
       "_view_module_version": "1.5.0",
       "_view_name": "VBoxView",
       "box_style": "",
       "children": [
        "IPY_MODEL_70d9fa407e9a4dc9b45605766cd176b7",
        "IPY_MODEL_06fe41ad2c0b4f009846d960c533d254"
       ],
       "layout": "IPY_MODEL_fc9cab8693194dbe99c45b1fff79785f"
      }
     },
     "9e3920e7b72d4514b6979f0a293d2f48": {
      "model_module": "@jupyter-widgets/output",
      "model_module_version": "1.0.0",
      "model_name": "OutputModel",
      "state": {
       "_dom_classes": [],
       "_model_module": "@jupyter-widgets/output",
       "_model_module_version": "1.0.0",
       "_model_name": "OutputModel",
       "_view_count": null,
       "_view_module": "@jupyter-widgets/output",
       "_view_module_version": "1.0.0",
       "_view_name": "OutputView",
       "layout": "IPY_MODEL_faaeaae4033b47efa4c071c280ce4111",
       "msg_id": "",
       "outputs": [
        {
         "data": {
          "image/png": "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",
          "text/plain": "<Figure size 640x480 with 1 Axes>"
         },
         "metadata": {},
         "output_type": "display_data"
        }
       ]
      }
     },
     "b366aed3a514463c82e1930cdb8afb79": {
      "model_module": "@jupyter-widgets/controls",
      "model_module_version": "1.5.0",
      "model_name": "DescriptionStyleModel",
      "state": {
       "_model_module": "@jupyter-widgets/controls",
       "_model_module_version": "1.5.0",
       "_model_name": "DescriptionStyleModel",
       "_view_count": null,
       "_view_module": "@jupyter-widgets/base",
       "_view_module_version": "1.2.0",
       "_view_name": "StyleView",
       "description_width": ""
      }
     },
     "bacee78db2e444c296a45d273e1fc479": {
      "model_module": "@jupyter-widgets/base",
      "model_module_version": "1.2.0",
      "model_name": "LayoutModel",
      "state": {
       "_model_module": "@jupyter-widgets/base",
       "_model_module_version": "1.2.0",
       "_model_name": "LayoutModel",
       "_view_count": null,
       "_view_module": "@jupyter-widgets/base",
       "_view_module_version": "1.2.0",
       "_view_name": "LayoutView",
       "align_content": null,
       "align_items": null,
       "align_self": null,
       "border": null,
       "bottom": null,
       "display": null,
       "flex": null,
       "flex_flow": null,
       "grid_area": null,
       "grid_auto_columns": null,
       "grid_auto_flow": null,
       "grid_auto_rows": null,
       "grid_column": null,
       "grid_gap": null,
       "grid_row": null,
       "grid_template_areas": null,
       "grid_template_columns": null,
       "grid_template_rows": null,
       "height": null,
       "justify_content": null,
       "justify_items": null,
       "left": null,
       "margin": null,
       "max_height": null,
       "max_width": null,
       "min_height": null,
       "min_width": null,
       "object_fit": null,
       "object_position": null,
       "order": null,
       "overflow": null,
       "overflow_x": null,
       "overflow_y": null,
       "padding": null,
       "right": null,
       "top": null,
       "visibility": null,
       "width": null
      }
     },
     "be34f5c8148840689f28a2806585f1fa": {
      "model_module": "@jupyter-widgets/controls",
      "model_module_version": "1.5.0",
      "model_name": "VBoxModel",
      "state": {
       "_dom_classes": [
        "widget-interact"
       ],
       "_model_module": "@jupyter-widgets/controls",
       "_model_module_version": "1.5.0",
       "_model_name": "VBoxModel",
       "_view_count": null,
       "_view_module": "@jupyter-widgets/controls",
       "_view_module_version": "1.5.0",
       "_view_name": "VBoxView",
       "box_style": "",
       "children": [
        "IPY_MODEL_7df56fb6fa414e0c89c0b4ca0feafe45",
        "IPY_MODEL_9e3920e7b72d4514b6979f0a293d2f48"
       ],
       "layout": "IPY_MODEL_bacee78db2e444c296a45d273e1fc479"
      }
     },
     "f7b4824be2264345889fa949ee800558": {
      "model_module": "@jupyter-widgets/base",
      "model_module_version": "1.2.0",
      "model_name": "LayoutModel",
      "state": {
       "_model_module": "@jupyter-widgets/base",
       "_model_module_version": "1.2.0",
       "_model_name": "LayoutModel",
       "_view_count": null,
       "_view_module": "@jupyter-widgets/base",
       "_view_module_version": "1.2.0",
       "_view_name": "LayoutView",
       "align_content": null,
       "align_items": null,
       "align_self": null,
       "border": null,
       "bottom": null,
       "display": null,
       "flex": null,
       "flex_flow": null,
       "grid_area": null,
       "grid_auto_columns": null,
       "grid_auto_flow": null,
       "grid_auto_rows": null,
       "grid_column": null,
       "grid_gap": null,
       "grid_row": null,
       "grid_template_areas": null,
       "grid_template_columns": null,
       "grid_template_rows": null,
       "height": null,
       "justify_content": null,
       "justify_items": null,
       "left": null,
       "margin": null,
       "max_height": null,
       "max_width": null,
       "min_height": null,
       "min_width": null,
       "object_fit": null,
       "object_position": null,
       "order": null,
       "overflow": null,
       "overflow_x": null,
       "overflow_y": null,
       "padding": null,
       "right": null,
       "top": null,
       "visibility": null,
       "width": null
      }
     },
     "faaeaae4033b47efa4c071c280ce4111": {
      "model_module": "@jupyter-widgets/base",
      "model_module_version": "1.2.0",
      "model_name": "LayoutModel",
      "state": {
       "_model_module": "@jupyter-widgets/base",
       "_model_module_version": "1.2.0",
       "_model_name": "LayoutModel",
       "_view_count": null,
       "_view_module": "@jupyter-widgets/base",
       "_view_module_version": "1.2.0",
       "_view_name": "LayoutView",
       "align_content": null,
       "align_items": null,
       "align_self": null,
       "border": null,
       "bottom": null,
       "display": null,
       "flex": null,
       "flex_flow": null,
       "grid_area": null,
       "grid_auto_columns": null,
       "grid_auto_flow": null,
       "grid_auto_rows": null,
       "grid_column": null,
       "grid_gap": null,
       "grid_row": null,
       "grid_template_areas": null,
       "grid_template_columns": null,
       "grid_template_rows": null,
       "height": null,
       "justify_content": null,
       "justify_items": null,
       "left": null,
       "margin": null,
       "max_height": null,
       "max_width": null,
       "min_height": null,
       "min_width": null,
       "object_fit": null,
       "object_position": null,
       "order": null,
       "overflow": null,
       "overflow_x": null,
       "overflow_y": null,
       "padding": null,
       "right": null,
       "top": null,
       "visibility": null,
       "width": null
      }
     },
     "fc9cab8693194dbe99c45b1fff79785f": {
      "model_module": "@jupyter-widgets/base",
      "model_module_version": "1.2.0",
      "model_name": "LayoutModel",
      "state": {
       "_model_module": "@jupyter-widgets/base",
       "_model_module_version": "1.2.0",
       "_model_name": "LayoutModel",
       "_view_count": null,
       "_view_module": "@jupyter-widgets/base",
       "_view_module_version": "1.2.0",
       "_view_name": "LayoutView",
       "align_content": null,
       "align_items": null,
       "align_self": null,
       "border": null,
       "bottom": null,
       "display": null,
       "flex": null,
       "flex_flow": null,
       "grid_area": null,
       "grid_auto_columns": null,
       "grid_auto_flow": null,
       "grid_auto_rows": null,
       "grid_column": null,
       "grid_gap": null,
       "grid_row": null,
       "grid_template_areas": null,
       "grid_template_columns": null,
       "grid_template_rows": null,
       "height": null,
       "justify_content": null,
       "justify_items": null,
       "left": null,
       "margin": null,
       "max_height": null,
       "max_width": null,
       "min_height": null,
       "min_width": null,
       "object_fit": null,
       "object_position": null,
       "order": null,
       "overflow": null,
       "overflow_x": null,
       "overflow_y": null,
       "padding": null,
       "right": null,
       "top": null,
       "visibility": null,
       "width": null
      }
     }
    },
    "version_major": 2,
    "version_minor": 0
   }
  }
 },
 "nbformat": 4,
 "nbformat_minor": 5
}
